{
  "nbformat": 4,
  "nbformat_minor": 0,
  "metadata": {
    "colab": {
      "name": "ML_Lab1.ipynb",
      "provenance": [],
      "collapsed_sections": []
    },
    "kernelspec": {
      "name": "python3",
      "display_name": "Python 3"
    },
    "language_info": {
      "name": "python"
    }
  },
  "cells": [
    {
      "cell_type": "code",
      "execution_count": null,
      "metadata": {
        "id": "PHFyK7-r1wvs"
      },
      "outputs": [],
      "source": [
        "import numpy as np\n",
        "import requests\n",
        "import csv\n",
        "from matplotlib import pyplot as plt"
      ]
    },
    {
      "cell_type": "code",
      "source": [
        "train_url = 'https://drive.google.com/uc?id=1ZJ7USoXN5Iijv_j-o8igJKD6w5jr5QPF'\n",
        "test_url = 'https://drive.google.com/uc?id=1Dtf7FRjjhAGEikPFYYXmBBEdFFFWa-kK'\n",
        "\n",
        "train = requests.get(train_url).text\n",
        "test = requests.get(test_url).text\n",
        "\n",
        "def text_to_matrix(text):\n",
        "  result =[]\n",
        "  for line in text.splitlines()[1:]:\n",
        "    s = line.split(\",\")\n",
        "    result.append((s[1], s[2]))\n",
        "  matr = np.array(result)\n",
        "  matr = matr.astype(float)\n",
        "  return matr\n",
        "\n",
        "train = text_to_matrix(train)\n",
        "test = text_to_matrix(test)\n",
        "print('train:')\n",
        "print(train.shape)\n",
        "print(train[:10])\n",
        "\n",
        "print('test:')\n",
        "print(test.shape)\n",
        "print(test[:10])"
      ],
      "metadata": {
        "id": "EqZm1rgr11Ol",
        "colab": {
          "base_uri": "https://localhost:8080/"
        },
        "outputId": "64f852f5-09f7-478e-e7ae-3764c9663759"
      },
      "execution_count": null,
      "outputs": [
        {
          "output_type": "stream",
          "name": "stdout",
          "text": [
            "train:\n",
            "(60, 2)\n",
            "[[0.00000000e+00 2.01490142e+01]\n",
            " [1.01010101e-02 1.99787227e+01]\n",
            " [2.02020202e-02 2.02347106e+01]\n",
            " [3.03030303e-02 2.05175150e+01]\n",
            " [4.04040404e-02 2.00105621e+01]\n",
            " [5.05050505e-02 2.00307690e+01]\n",
            " [6.06060606e-02 2.05949760e+01]\n",
            " [7.07070707e-02 2.03716446e+01]\n",
            " [8.08080808e-02 2.00207738e+01]\n",
            " [9.09090909e-02 2.03445862e+01]]\n",
            "test:\n",
            "(40, 2)\n",
            "[[ 0.60606061 21.06836894]\n",
            " [ 0.61616162 21.17662554]\n",
            " [ 0.62626263 20.92062476]\n",
            " [ 0.63636364 20.91386529]\n",
            " [ 0.64646465 21.53668704]\n",
            " [ 0.65656566 21.72000332]\n",
            " [ 0.66666667 21.3117303 ]\n",
            " [ 0.67676768 21.65459522]\n",
            " [ 0.68686869 21.48222818]\n",
            " [ 0.6969697  21.20040347]]\n"
          ]
        }
      ]
    },
    {
      "cell_type": "code",
      "source": [
        "def create_plot(data, index, name, param):\n",
        "  data_set = data\n",
        "  plt.subplot(1, 2, index)\n",
        "  plt.xlabel('X', color='gray')\n",
        "  plt.ylabel('Y', color='gray')\n",
        "  plt.axis([-0.1, 1.1, 19.5, 22.5])\n",
        "  plt.title(name)\n",
        "  plt.plot(data_set[:,0], data_set[:,1], param)\n",
        "\n",
        "fig = plt.gcf()\n",
        "fig.set_size_inches(15, 7.5)\n",
        "\n",
        "create_plot(train, 1, 'Training Set', 'ro')\n",
        "create_plot(test, 2, 'Test Set', 'go')\n",
        "\n",
        "plt.show()"
      ],
      "metadata": {
        "id": "j2jaa-pu27g6",
        "colab": {
          "base_uri": "https://localhost:8080/",
          "height": 486
        },
        "outputId": "485e484f-9506-48b9-9c13-1dd6702a34a7"
      },
      "execution_count": null,
      "outputs": [
        {
          "output_type": "display_data",
          "data": {
            "text/plain": [
              "<Figure size 1080x540 with 2 Axes>"
            ],
            "image/png": "[encoded data removed]"
          },
          "metadata": {
            "needs_background": "light"
          }
        }
      ]
    },
    {
      "cell_type": "code",
      "source": [
        "class Regression():\n",
        "    def __init__(self, learning_rate=0.1, tol=0.000001, seed=None):\n",
        "        self.W = None\n",
        "        self.b = None\n",
        "        self.__lr = learning_rate\n",
        "        self.__tol = tol\n",
        "        self.__m = None\n",
        "        self.__costs = []\n",
        "        self.__iterations = []\n",
        "        np.random.seed(seed if seed is not None else np.random.randint(100))\n",
        "\n",
        "    def __initialize_weights_and_bias(self):\n",
        "        self.W = np.random.randn()\n",
        "        self.b = 0\n",
        "\n",
        "    def __computeCost(self,h,Y):\n",
        "        loss = np.square(Y-h)\n",
        "        cost = np.sum(loss)/(self.__m)\n",
        "        return cost\n",
        "\n",
        "    def __optimize(self,X,Y):\n",
        "        h = self.predict(X)\n",
        "        dW = -2*np.sum(X*(Y-h)) / self.__m\n",
        "        db = -2*np.sum( Y-h )  / self.__m\n",
        "        self.W = self.W - self.__lr*dW\n",
        "        self.b = self.b - self.__lr*db\n",
        "\n",
        "    def fit(self, X, y, verbose=False):\n",
        "        self.__m = y.shape[0]\n",
        "        self.__initialize_weights_and_bias()\n",
        "        last_cost,i = float('inf'),0\n",
        "        while True:\n",
        "            h = self.predict(X)\n",
        "            cost = self.__computeCost(h,y)\n",
        "            if verbose: print(f\"Iteration: {i}, Cost: {cost:.3f}\")\n",
        "            self.__optimize(X,y)\n",
        "            if abs(last_cost-cost) < self.__tol: break\n",
        "            else: last_cost,i = cost,i+1\n",
        "            self.__costs.append(cost)\n",
        "            self.__iterations.append(i)\n",
        "\n",
        "    def predict(self,X):\n",
        "        return X*self.W+self.b\n",
        "\n",
        "    def plot(self,figsize=(7,5)):\n",
        "        plt.figure(figsize=figsize)\n",
        "        plt.plot(self.__iterations,self.__costs)\n",
        "        plt.xlabel('Iterations')\n",
        "        plt.ylabel('Cost')\n",
        "        plt.title(\"Iterations vs Cost\")\n",
        "        plt.show()\n",
        "\n",
        "    def score(self,X,y):\n",
        "      return self.__computeCost(self.predict(X),y)\n",
        "\n"
      ],
      "metadata": {
        "id": "f_2Pq8c6--BD"
      },
      "execution_count": null,
      "outputs": []
    },
    {
      "cell_type": "code",
      "source": [
        "model = Regression()\n",
        "model.fit(train[:,0], train[:,1])\n",
        "model.plot()"
      ],
      "metadata": {
        "colab": {
          "base_uri": "https://localhost:8080/",
          "height": 350
        },
        "id": "gUSUbYZuRtCF",
        "outputId": "f6c36bce-faaa-4860-9bfa-f4d3f134460b"
      },
      "execution_count": null,
      "outputs": [
        {
          "output_type": "display_data",
          "data": {
            "text/plain": [
              "<Figure size 504x360 with 1 Axes>"
            ],
            "image/png": "[encoded data removed]"
          },
          "metadata": {
            "needs_background": "light"
          }
        }
      ]
    },
    {
      "cell_type": "code",
      "source": [
        "model.score(train[:,0], train[:,1])"
      ],
      "metadata": {
        "colab": {
          "base_uri": "https://localhost:8080/"
        },
        "id": "_QCVPH8vVKRl",
        "outputId": "607e1cae-e06d-4777-902e-42ad8c72b0ae"
      },
      "execution_count": null,
      "outputs": [
        {
          "output_type": "execute_result",
          "data": {
            "text/plain": [
              "0.07312198247564743"
            ]
          },
          "metadata": {},
          "execution_count": 119
        }
      ]
    },
    {
      "cell_type": "code",
      "source": [
        "model.score(test[:,0], test[:,1])"
      ],
      "metadata": {
        "colab": {
          "base_uri": "https://localhost:8080/"
        },
        "id": "dua245kIX-7f",
        "outputId": "083c67bb-7649-43e2-ea7c-6f894b21a1e4"
      },
      "execution_count": null,
      "outputs": [
        {
          "output_type": "execute_result",
          "data": {
            "text/plain": [
              "0.04926821054964037"
            ]
          },
          "metadata": {},
          "execution_count": 120
        }
      ]
    },
    {
      "cell_type": "code",
      "source": [
        "x = np.linspace(0, 1, 2)\n",
        "y = model.W*x+model.b\n",
        "print(model.W,model.b)\n",
        "\n",
        "plt.plot(train[:,0], train[:,1],'ro')\n",
        "plt.plot(test[:,0], test[:,1],'go')\n",
        "plt.plot(x,y)"
      ],
      "metadata": {
        "colab": {
          "base_uri": "https://localhost:8080/",
          "height": 301
        },
        "id": "hIkMLUPbuf2F",
        "outputId": "ad7c42fe-df37-4fb3-eaa7-610f5655c438"
      },
      "execution_count": null,
      "outputs": [
        {
          "output_type": "stream",
          "name": "stdout",
          "text": [
            "2.032015103143062 19.943606167975425\n"
          ]
        },
        {
          "output_type": "execute_result",
          "data": {
            "text/plain": [
              "[<matplotlib.lines.Line2D at 0x7f42562fa150>]"
            ]
          },
          "metadata": {},
          "execution_count": 121
        },
        {
          "output_type": "display_data",
          "data": {
            "text/plain": [
              "<Figure size 432x288 with 1 Axes>"
            ],
            "image/png": "[encoded data removed]"
          },
          "metadata": {
            "needs_background": "light"
          }
        }
      ]
    }
  ]
}