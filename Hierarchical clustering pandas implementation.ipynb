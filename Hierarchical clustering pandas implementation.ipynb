{
 "cells": [
  {
   "cell_type": "code",
   "execution_count": 184,
   "metadata": {
    "collapsed": true
   },
   "outputs": [],
   "source": [
    "import matplotlib.pyplot as plt\n",
    "import pandas as pd\n",
    "import numpy as np\n",
    "import requests\n",
    "import json\n",
    "import time\n",
    "from scipy.spatial.distance import pdist, squareform"
   ]
  },
  {
   "cell_type": "code",
   "execution_count": 185,
   "outputs": [
    {
     "data": {
      "text/plain": "   Rank            Country Name  Male Height in Cm  Female Height in Cm  \\\n0     1             Netherlands             183.78               170.36   \n1     2              Montenegro             183.30               169.96   \n2     3                 Estonia             182.79               168.66   \n3     4  Bosnia and Herzegovina             182.47               167.47   \n4     5                 Iceland             182.10               168.91   \n\n   Male Height in Ft  Female Height in Ft  \n0               6.03                 5.59  \n1               6.01                 5.58  \n2               6.00                 5.53  \n3               5.99                 5.49  \n4               5.97                 5.54  ",
      "text/html": "<div>\n<style scoped>\n    .dataframe tbody tr th:only-of-type {\n        vertical-align: middle;\n    }\n\n    .dataframe tbody tr th {\n        vertical-align: top;\n    }\n\n    .dataframe thead th {\n        text-align: right;\n    }\n</style>\n<table border=\"1\" class=\"dataframe\">\n  <thead>\n    <tr style=\"text-align: right;\">\n      <th></th>\n      <th>Rank</th>\n      <th>Country Name</th>\n      <th>Male Height in Cm</th>\n      <th>Female Height in Cm</th>\n      <th>Male Height in Ft</th>\n      <th>Female Height in Ft</th>\n    </tr>\n  </thead>\n  <tbody>\n    <tr>\n      <th>0</th>\n      <td>1</td>\n      <td>Netherlands</td>\n      <td>183.78</td>\n      <td>170.36</td>\n      <td>6.03</td>\n      <td>5.59</td>\n    </tr>\n    <tr>\n      <th>1</th>\n      <td>2</td>\n      <td>Montenegro</td>\n      <td>183.30</td>\n      <td>169.96</td>\n      <td>6.01</td>\n      <td>5.58</td>\n    </tr>\n    <tr>\n      <th>2</th>\n      <td>3</td>\n      <td>Estonia</td>\n      <td>182.79</td>\n      <td>168.66</td>\n      <td>6.00</td>\n      <td>5.53</td>\n    </tr>\n    <tr>\n      <th>3</th>\n      <td>4</td>\n      <td>Bosnia and Herzegovina</td>\n      <td>182.47</td>\n      <td>167.47</td>\n      <td>5.99</td>\n      <td>5.49</td>\n    </tr>\n    <tr>\n      <th>4</th>\n      <td>5</td>\n      <td>Iceland</td>\n      <td>182.10</td>\n      <td>168.91</td>\n      <td>5.97</td>\n      <td>5.54</td>\n    </tr>\n  </tbody>\n</table>\n</div>"
     },
     "execution_count": 185,
     "metadata": {},
     "output_type": "execute_result"
    }
   ],
   "source": [
    "df = pd.read_csv('Height of Male and Female by Country 2022.csv')\n",
    "df.head()"
   ],
   "metadata": {
    "collapsed": false,
    "pycharm": {
     "name": "#%%\n"
    }
   }
  },
  {
   "cell_type": "code",
   "execution_count": 186,
   "outputs": [
    {
     "name": "stdout",
     "output_type": "stream",
     "text": [
      "                        Male Height in Cm  Female Height in Cm\n",
      "Country Name                                                  \n",
      "Netherlands                        183.78               170.36\n",
      "Montenegro                         183.30               169.96\n",
      "Estonia                            182.79               168.66\n",
      "Bosnia and Herzegovina             182.47               167.47\n",
      "Iceland                            182.10               168.91\n"
     ]
    }
   ],
   "source": [
    "del df['Female Height in Ft']\n",
    "del df['Male Height in Ft']\n",
    "del df['Rank']\n",
    "df.set_index(df['Country Name'],inplace = True)\n",
    "del df['Country Name']\n",
    "print(df.head())"
   ],
   "metadata": {
    "collapsed": false,
    "pycharm": {
     "name": "#%%\n"
    }
   }
  },
  {
   "cell_type": "code",
   "execution_count": 187,
   "outputs": [],
   "source": [
    "# ячейка для выставления значений широты и долготы вместо названия страны по API (NOT USED)\n",
    "\n",
    "\n",
    "\n",
    "#df['lat'] = 0.0\n",
    "#df['lng'] = 0.0\n",
    "# key = '3d2b35dae5444b1a9671eaaf0183dceb'\n",
    "#\n",
    "# def get_lat_and_lng_for_country(country):\n",
    "#     res = requests.get(f'https://api.opencagedata.com/geocode/v1/json?key={key}&q={country}')\n",
    "#     country_dictionary = json.dumps(res.text)\n",
    "#     geometry = country_dictionary['results'][0]['geometry']\n",
    "#     lat,lng = geometry['lat'],geometry['lng']\n",
    "#     return lat,lng\n",
    "#\n",
    "#\n",
    "# for i in range(df.shape[0]):\n",
    "#     country = df.iloc[i]['Country Name']\n",
    "#     print(country)\n",
    "#     lat,lng = get_lat_and_lng_for_country(country)\n",
    "#     df.iloc[i,3] = lat\n",
    "#     df.iloc[i,4] = lng\n",
    "#     time.sleep(0.1)"
   ],
   "metadata": {
    "collapsed": false,
    "pycharm": {
     "name": "#%%\n"
    }
   }
  },
  {
   "cell_type": "code",
   "execution_count": 188,
   "outputs": [],
   "source": [
    "def hierarchical_clusterize(X,stop_by='cluster',stop_value=4):\n",
    "\n",
    "    def stop_process(stop_by,stop_value,cur_clusters,cur_distance):\n",
    "        if stop_by == 'threshold':\n",
    "            return stop_value<cur_distance\n",
    "        elif stop_by=='cluster':\n",
    "            return cur_clusters == stop_value\n",
    "\n",
    "    max_num_of_iterations = X.shape[0]-1\n",
    "\n",
    "    for i in range(max_num_of_iterations):\n",
    "        distances = pdist(X.values,metric='euclidean')\n",
    "        dist_matrix = squareform(distances)\n",
    "        dist_df = pd.DataFrame(data=dist_matrix,columns=X.index)\n",
    "        dist_df.set_index(dist_df.columns)\n",
    "        min_distances = dist_df[dist_df > .01].min().sort_values()[:2]\n",
    "        countries_to_cluster = min_distances.index\n",
    "        s = X.loc[countries_to_cluster].mean()\n",
    "        s.name = ','.join(countries_to_cluster)\n",
    "        X.drop(countries_to_cluster,inplace = True)\n",
    "        X = X.append(s)\n",
    "        cur_distance = min_distances.values[0]\n",
    "        cur_clusters = X.shape[0]\n",
    "        if stop_process(stop_by,stop_value,cur_clusters,cur_distance):\n",
    "            break\n",
    "\n",
    "    return X"
   ],
   "metadata": {
    "collapsed": false,
    "pycharm": {
     "name": "#%%\n"
    }
   }
  },
  {
   "cell_type": "code",
   "execution_count": 189,
   "outputs": [],
   "source": [
    "clusterized_X = hierarchical_clusterize(df.copy())"
   ],
   "metadata": {
    "collapsed": false,
    "pycharm": {
     "name": "#%%\n"
    }
   }
  },
  {
   "cell_type": "code",
   "execution_count": 190,
   "outputs": [
    {
     "data": {
      "text/plain": "                                                    Male Height in Cm  \\\nCountry Name                                                            \nIran,Kazakhstan,Norway,Guinea,Seychelles,Brazil...         172.968301   \nTimor-Leste,Solomon Islands,Papua New Guinea,Ye...         161.896094   \nMauritania,Brunei,India,Indonesia,Myanmar,Peru,...         167.067974   \nNetherlands,Montenegro,Bosnia and Herzegovina,E...         180.421318   \n\n                                                    Female Height in Cm  \nCountry Name                                                             \nIran,Kazakhstan,Norway,Guinea,Seychelles,Brazil...           161.278960  \nTimor-Leste,Solomon Islands,Papua New Guinea,Ye...           153.963125  \nMauritania,Brunei,India,Indonesia,Myanmar,Peru,...           158.265508  \nNetherlands,Montenegro,Bosnia and Herzegovina,E...           167.385381  ",
      "text/html": "<div>\n<style scoped>\n    .dataframe tbody tr th:only-of-type {\n        vertical-align: middle;\n    }\n\n    .dataframe tbody tr th {\n        vertical-align: top;\n    }\n\n    .dataframe thead th {\n        text-align: right;\n    }\n</style>\n<table border=\"1\" class=\"dataframe\">\n  <thead>\n    <tr style=\"text-align: right;\">\n      <th></th>\n      <th>Male Height in Cm</th>\n      <th>Female Height in Cm</th>\n    </tr>\n    <tr>\n      <th>Country Name</th>\n      <th></th>\n      <th></th>\n    </tr>\n  </thead>\n  <tbody>\n    <tr>\n      <th>Iran,Kazakhstan,Norway,Guinea,Seychelles,Brazil,Spain,Israel,Turkey,Hungary,Libya,Morocco,North Macedonia,Tunisia,Singapore,Greenland,Azerbaijan,Italy,Uruguay,Portugal,Egypt,Hong Kong,Dominican Republic,North Korea,Argentina,Palestine,Costa Rica,United Arab Emirates,Paraguay,Armenia,Cuba,Venezuela,Qatar,Taiwan,Cyprus,Jordan,Kuwait,Saint Kitts and Nevis,Botswana,Suriname,Albania,Bahamas,Mali,Turkmenistan,Malta,Algeria,Samoa,Bulgaria,Fiji,Iraq,Chile,Mauritius,Japan,Colombia,Nigeria,Oman,Bahrain,Somalia,Uzbekistan,Gabon,Niger,Sao Tome and Principe,Djibouti,Zimbabwe,Mongolia,Palau,Kenya,Saudi Arabia,Ghana,Togo,Republic of the Congo,Kyrgyzstan,Cameroon,Sudan,Haiti,Guyana,Thailand,Syria,Gambia,Vanuatu,Kiribati,Micronesia,Central African Republic,Namibia,Tuvalu,Chad,Burkina Faso</th>\n      <td>172.968301</td>\n      <td>161.278960</td>\n    </tr>\n    <tr>\n      <th>Timor-Leste,Solomon Islands,Papua New Guinea,Yemen,Mozambique,Philippines,Cambodia,Marshall Islands,Laos,Guatemala,Nepal,Madagascar,Bangladesh</th>\n      <td>161.896094</td>\n      <td>153.963125</td>\n    </tr>\n    <tr>\n      <th>Mauritania,Brunei,India,Indonesia,Myanmar,Peru,Bhutan,Burundi,Ecuador,Pakistan,Maldives,DR Congo,Afghanistan,Bolivia,Sri Lanka,Malawi,Liberia,Rwanda,Zambia,Lesotho,Comoros,Tanzania,Sierra Leone,Malaysia,Ethiopia,Nauru,Guinea-Bissau,Ivory Coast,Benin,Equatorial Guinea,Tajikistan,Angola,Vietnam,Uganda,Eswatini,South Africa,Eritrea,Panama,Mexico,Belize,El Salvador,Nicaragua,Honduras</th>\n      <td>167.067974</td>\n      <td>158.265508</td>\n    </tr>\n    <tr>\n      <th>Netherlands,Montenegro,Bosnia and Herzegovina,Estonia,Iceland,Denmark,Slovakia,Slovenia,Lithuania,Czech Republic,Serbia,Latvia,Cook Islands,Belarus,Austria,French Polynesia,Antigua and Barbuda,Andorra,Grenada,Greece,Poland,Bermuda,Germany,Dominica,Sweden,Finland,Ukraine,Croatia,Tonga,Saint Lucia,Tokelau,Saint Vincent and the Grenadines,Barbados,American Samoa,Niue,New Zealand,Romania,United Kingdom,France,Switzerland,Canada,Australia,Ireland,Luxembourg,Belgium,Lebanon,Puerto Rico,Russia,Jamaica,Georgia,Trinidad and Tobago,Moldova,China,South Korea,Senegal,United States</th>\n      <td>180.421318</td>\n      <td>167.385381</td>\n    </tr>\n  </tbody>\n</table>\n</div>"
     },
     "execution_count": 190,
     "metadata": {},
     "output_type": "execute_result"
    }
   ],
   "source": [
    "clusterized_X.head()"
   ],
   "metadata": {
    "collapsed": false,
    "pycharm": {
     "name": "#%%\n"
    }
   }
  },
  {
   "cell_type": "code",
   "execution_count": 191,
   "outputs": [],
   "source": [
    "df['cl'] = 0\n",
    "for cluster_index,cluster_countries in enumerate(clusterized_X.index):\n",
    "    counties_array = cluster_countries.split(',')\n",
    "    df.loc[counties_array,'cl'] = cluster_index"
   ],
   "metadata": {
    "collapsed": false,
    "pycharm": {
     "name": "#%%\n"
    }
   }
  },
  {
   "cell_type": "code",
   "execution_count": 192,
   "outputs": [
    {
     "data": {
      "text/plain": "                        Male Height in Cm  Female Height in Cm  cl\nCountry Name                                                      \nNetherlands                        183.78               170.36   3\nMontenegro                         183.30               169.96   3\nEstonia                            182.79               168.66   3\nBosnia and Herzegovina             182.47               167.47   3\nIceland                            182.10               168.91   3\n...                                   ...                  ...  ..\nMozambique                         164.30               155.42   1\nPapua New Guinea                   163.10               156.89   1\nSolomon Islands                    163.07               156.79   1\nLaos                               162.78               153.10   1\nTimor-Leste                        160.13               152.71   1\n\n[199 rows x 3 columns]",
      "text/html": "<div>\n<style scoped>\n    .dataframe tbody tr th:only-of-type {\n        vertical-align: middle;\n    }\n\n    .dataframe tbody tr th {\n        vertical-align: top;\n    }\n\n    .dataframe thead th {\n        text-align: right;\n    }\n</style>\n<table border=\"1\" class=\"dataframe\">\n  <thead>\n    <tr style=\"text-align: right;\">\n      <th></th>\n      <th>Male Height in Cm</th>\n      <th>Female Height in Cm</th>\n      <th>cl</th>\n    </tr>\n    <tr>\n      <th>Country Name</th>\n      <th></th>\n      <th></th>\n      <th></th>\n    </tr>\n  </thead>\n  <tbody>\n    <tr>\n      <th>Netherlands</th>\n      <td>183.78</td>\n      <td>170.36</td>\n      <td>3</td>\n    </tr>\n    <tr>\n      <th>Montenegro</th>\n      <td>183.30</td>\n      <td>169.96</td>\n      <td>3</td>\n    </tr>\n    <tr>\n      <th>Estonia</th>\n      <td>182.79</td>\n      <td>168.66</td>\n      <td>3</td>\n    </tr>\n    <tr>\n      <th>Bosnia and Herzegovina</th>\n      <td>182.47</td>\n      <td>167.47</td>\n      <td>3</td>\n    </tr>\n    <tr>\n      <th>Iceland</th>\n      <td>182.10</td>\n      <td>168.91</td>\n      <td>3</td>\n    </tr>\n    <tr>\n      <th>...</th>\n      <td>...</td>\n      <td>...</td>\n      <td>...</td>\n    </tr>\n    <tr>\n      <th>Mozambique</th>\n      <td>164.30</td>\n      <td>155.42</td>\n      <td>1</td>\n    </tr>\n    <tr>\n      <th>Papua New Guinea</th>\n      <td>163.10</td>\n      <td>156.89</td>\n      <td>1</td>\n    </tr>\n    <tr>\n      <th>Solomon Islands</th>\n      <td>163.07</td>\n      <td>156.79</td>\n      <td>1</td>\n    </tr>\n    <tr>\n      <th>Laos</th>\n      <td>162.78</td>\n      <td>153.10</td>\n      <td>1</td>\n    </tr>\n    <tr>\n      <th>Timor-Leste</th>\n      <td>160.13</td>\n      <td>152.71</td>\n      <td>1</td>\n    </tr>\n  </tbody>\n</table>\n<p>199 rows × 3 columns</p>\n</div>"
     },
     "execution_count": 192,
     "metadata": {},
     "output_type": "execute_result"
    }
   ],
   "source": [
    "df"
   ],
   "metadata": {
    "collapsed": false,
    "pycharm": {
     "name": "#%%\n"
    }
   }
  },
  {
   "cell_type": "code",
   "execution_count": 193,
   "outputs": [
    {
     "data": {
      "text/plain": "<Figure size 432x288 with 2 Axes>",
      "image/png": "[encoded data removed]"
     },
     "metadata": {
      "needs_background": "light"
     },
     "output_type": "display_data"
    }
   ],
   "source": [
    "ax = df.plot.scatter('Male Height in Cm', 'Female Height in Cm', c='cl', colormap='gist_rainbow')\n",
    "ax.set_xlabel('Male Height in Cm')\n",
    "ax.set_ylabel('Female Height in Cm')\n",
    "ax.xaxis.get_label().set_visible(True)\n",
    "ax.tick_params(axis='x', bottom=True, labelbottom=True)\n",
    "plt.savefig('result.png')"
   ],
   "metadata": {
    "collapsed": false,
    "pycharm": {
     "name": "#%%\n"
    }
   }
  },
  {
   "cell_type": "code",
   "execution_count": 178,
   "outputs": [
    {
     "data": {
      "text/plain": "                                                    Male Height in Cm  \\\nCountry Name                                                            \nIran,Kazakhstan,Norway,Guinea,Seychelles,Brazil...         172.968301   \nTimor-Leste,Solomon Islands,Papua New Guinea,Ye...         161.896094   \nMauritania,Brunei,India,Indonesia,Myanmar,Peru,...         167.067974   \nNetherlands,Montenegro,Bosnia and Herzegovina,E...         180.421318   \n\n                                                    Female Height in Cm  \nCountry Name                                                             \nIran,Kazakhstan,Norway,Guinea,Seychelles,Brazil...           161.278960  \nTimor-Leste,Solomon Islands,Papua New Guinea,Ye...           153.963125  \nMauritania,Brunei,India,Indonesia,Myanmar,Peru,...           158.265508  \nNetherlands,Montenegro,Bosnia and Herzegovina,E...           167.385381  ",
      "text/html": "<div>\n<style scoped>\n    .dataframe tbody tr th:only-of-type {\n        vertical-align: middle;\n    }\n\n    .dataframe tbody tr th {\n        vertical-align: top;\n    }\n\n    .dataframe thead th {\n        text-align: right;\n    }\n</style>\n<table border=\"1\" class=\"dataframe\">\n  <thead>\n    <tr style=\"text-align: right;\">\n      <th></th>\n      <th>Male Height in Cm</th>\n      <th>Female Height in Cm</th>\n    </tr>\n    <tr>\n      <th>Country Name</th>\n      <th></th>\n      <th></th>\n    </tr>\n  </thead>\n  <tbody>\n    <tr>\n      <th>Iran,Kazakhstan,Norway,Guinea,Seychelles,Brazil,Spain,Israel,Turkey,Hungary,Libya,Morocco,North Macedonia,Tunisia,Singapore,Greenland,Azerbaijan,Italy,Uruguay,Portugal,Egypt,Hong Kong,Dominican Republic,North Korea,Argentina,Palestine,Costa Rica,United Arab Emirates,Paraguay,Armenia,Cuba,Venezuela,Qatar,Taiwan,Cyprus,Jordan,Kuwait,Saint Kitts and Nevis,Botswana,Suriname,Albania,Bahamas,Mali,Turkmenistan,Malta,Algeria,Samoa,Bulgaria,Fiji,Iraq,Chile,Mauritius,Japan,Colombia,Nigeria,Oman,Bahrain,Somalia,Uzbekistan,Gabon,Niger,Sao Tome and Principe,Djibouti,Zimbabwe,Mongolia,Palau,Kenya,Saudi Arabia,Ghana,Togo,Republic of the Congo,Kyrgyzstan,Cameroon,Sudan,Haiti,Guyana,Thailand,Syria,Gambia,Vanuatu,Kiribati,Micronesia,Central African Republic,Namibia,Tuvalu,Chad,Burkina Faso</th>\n      <td>172.968301</td>\n      <td>161.278960</td>\n    </tr>\n    <tr>\n      <th>Timor-Leste,Solomon Islands,Papua New Guinea,Yemen,Mozambique,Philippines,Cambodia,Marshall Islands,Laos,Guatemala,Nepal,Madagascar,Bangladesh</th>\n      <td>161.896094</td>\n      <td>153.963125</td>\n    </tr>\n    <tr>\n      <th>Mauritania,Brunei,India,Indonesia,Myanmar,Peru,Bhutan,Burundi,Ecuador,Pakistan,Maldives,DR Congo,Afghanistan,Bolivia,Sri Lanka,Malawi,Liberia,Rwanda,Zambia,Lesotho,Comoros,Tanzania,Sierra Leone,Malaysia,Ethiopia,Nauru,Guinea-Bissau,Ivory Coast,Benin,Equatorial Guinea,Tajikistan,Angola,Vietnam,Uganda,Eswatini,South Africa,Eritrea,Panama,Mexico,Belize,El Salvador,Nicaragua,Honduras</th>\n      <td>167.067974</td>\n      <td>158.265508</td>\n    </tr>\n    <tr>\n      <th>Netherlands,Montenegro,Bosnia and Herzegovina,Estonia,Iceland,Denmark,Slovakia,Slovenia,Lithuania,Czech Republic,Serbia,Latvia,Cook Islands,Belarus,Austria,French Polynesia,Antigua and Barbuda,Andorra,Grenada,Greece,Poland,Bermuda,Germany,Dominica,Sweden,Finland,Ukraine,Croatia,Tonga,Saint Lucia,Tokelau,Saint Vincent and the Grenadines,Barbados,American Samoa,Niue,New Zealand,Romania,United Kingdom,France,Switzerland,Canada,Australia,Ireland,Luxembourg,Belgium,Lebanon,Puerto Rico,Russia,Jamaica,Georgia,Trinidad and Tobago,Moldova,China,South Korea,Senegal,United States</th>\n      <td>180.421318</td>\n      <td>167.385381</td>\n    </tr>\n  </tbody>\n</table>\n</div>"
     },
     "execution_count": 178,
     "metadata": {},
     "output_type": "execute_result"
    }
   ],
   "source": [
    "clusterized_X"
   ],
   "metadata": {
    "collapsed": false,
    "pycharm": {
     "name": "#%%\n"
    }
   }
  },
  {
   "cell_type": "code",
   "execution_count": 181,
   "outputs": [
    {
     "name": "stdout",
     "output_type": "stream",
     "text": [
      "Iran,Kazakhstan,Norway,Guinea,Seychelles,Brazil,Spain,Israel,Turkey,Hungary,Libya,Morocco,North Macedonia,Tunisia,Singapore,Greenland,Azerbaijan,Italy,Uruguay,Portugal,Egypt,Hong Kong,Dominican Republic,North Korea,Argentina,Palestine,Costa Rica,United Arab Emirates,Paraguay,Armenia,Cuba,Venezuela,Qatar,Taiwan,Cyprus,Jordan,Kuwait,Saint Kitts and Nevis,Botswana,Suriname,Albania,Bahamas,Mali,Turkmenistan,Malta,Algeria,Samoa,Bulgaria,Fiji,Iraq,Chile,Mauritius,Japan,Colombia,Nigeria,Oman,Bahrain,Somalia,Uzbekistan,Gabon,Niger,Sao Tome and Principe,Djibouti,Zimbabwe,Mongolia,Palau,Kenya,Saudi Arabia,Ghana,Togo,Republic of the Congo,Kyrgyzstan,Cameroon,Sudan,Haiti,Guyana,Thailand,Syria,Gambia,Vanuatu,Kiribati,Micronesia,Central African Republic,Namibia,Tuvalu,Chad,Burkina Faso\n",
      "\n",
      "\n",
      "Timor-Leste,Solomon Islands,Papua New Guinea,Yemen,Mozambique,Philippines,Cambodia,Marshall Islands,Laos,Guatemala,Nepal,Madagascar,Bangladesh\n",
      "\n",
      "\n",
      "Mauritania,Brunei,India,Indonesia,Myanmar,Peru,Bhutan,Burundi,Ecuador,Pakistan,Maldives,DR Congo,Afghanistan,Bolivia,Sri Lanka,Malawi,Liberia,Rwanda,Zambia,Lesotho,Comoros,Tanzania,Sierra Leone,Malaysia,Ethiopia,Nauru,Guinea-Bissau,Ivory Coast,Benin,Equatorial Guinea,Tajikistan,Angola,Vietnam,Uganda,Eswatini,South Africa,Eritrea,Panama,Mexico,Belize,El Salvador,Nicaragua,Honduras\n",
      "\n",
      "\n",
      "Netherlands,Montenegro,Bosnia and Herzegovina,Estonia,Iceland,Denmark,Slovakia,Slovenia,Lithuania,Czech Republic,Serbia,Latvia,Cook Islands,Belarus,Austria,French Polynesia,Antigua and Barbuda,Andorra,Grenada,Greece,Poland,Bermuda,Germany,Dominica,Sweden,Finland,Ukraine,Croatia,Tonga,Saint Lucia,Tokelau,Saint Vincent and the Grenadines,Barbados,American Samoa,Niue,New Zealand,Romania,United Kingdom,France,Switzerland,Canada,Australia,Ireland,Luxembourg,Belgium,Lebanon,Puerto Rico,Russia,Jamaica,Georgia,Trinidad and Tobago,Moldova,China,South Korea,Senegal,United States\n",
      "\n",
      "\n"
     ]
    }
   ],
   "source": [
    "for row in clusterized_X.index:\n",
    "    print(row+'\\n\\n')"
   ],
   "metadata": {
    "collapsed": false,
    "pycharm": {
     "name": "#%%\n"
    }
   }
  },
  {
   "cell_type": "code",
   "execution_count": null,
   "outputs": [],
   "source": [],
   "metadata": {
    "collapsed": false,
    "pycharm": {
     "name": "#%%\n"
    }
   }
  }
 ],
 "metadata": {
  "kernelspec": {
   "display_name": "Python 3",
   "language": "python",
   "name": "python3"
  },
  "language_info": {
   "codemirror_mode": {
    "name": "ipython",
    "version": 2
   },
   "file_extension": ".py",
   "mimetype": "text/x-python",
   "name": "python",
   "nbconvert_exporter": "python",
   "pygments_lexer": "ipython2",
   "version": "2.7.6"
  }
 },
 "nbformat": 4,
 "nbformat_minor": 0
}