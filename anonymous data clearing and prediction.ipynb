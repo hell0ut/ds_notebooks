{
  "nbformat": 4,
  "nbformat_minor": 0,
  "metadata": {
    "colab": {
      "name": "Lab 3 Крушельницький.ipynb",
      "provenance": [],
      "collapsed_sections": []
    },
    "kernelspec": {
      "name": "python3",
      "display_name": "Python 3"
    },
    "language_info": {
      "name": "python"
    }
  },
  "cells": [
    {
      "cell_type": "code",
      "metadata": {
        "id": "6yQIi0NR7WU_"
      },
      "source": [
        "import pandas as pd\n",
        "import numpy as np\n",
        "import seaborn as sns\n",
        "import matplotlib.pyplot as plt"
      ],
      "execution_count": null,
      "outputs": []
    },
    {
      "cell_type": "code",
      "metadata": {
        "id": "McOPhQvn8iAs"
      },
      "source": [
        "df = pd.read_csv('drive/MyDrive/data.csv',sep='}',encoding='utf_16_le')"
      ],
      "execution_count": null,
      "outputs": []
    },
    {
      "cell_type": "code",
      "metadata": {
        "colab": {
          "base_uri": "https://localhost:8080/"
        },
        "id": "3_NrNh2O-Rpe",
        "outputId": "549d48f8-4033-497a-b9b9-049178ad7611"
      },
      "source": [
        "for column_name in df.columns:\n",
        "  print(df[column_name].describe())\n",
        "  print('\\n\\n')"
      ],
      "execution_count": null,
      "outputs": [
        {
          "output_type": "stream",
          "name": "stdout",
          "text": [
            "count     1000000\n",
            "unique          3\n",
            "top           0.0\n",
            "freq       700383\n",
            "Name: target, dtype: object\n",
            "\n",
            "\n",
            "\n",
            "count    1000000.000000\n",
            "mean        -998.120022\n",
            "std         2998.077460\n",
            "min        -9999.000000\n",
            "25%            0.200000\n",
            "50%            0.500000\n",
            "75%            0.700000\n",
            "max            0.900000\n",
            "Name: c1, dtype: float64\n",
            "\n",
            "\n",
            "\n",
            "count     1000000\n",
            "unique     900196\n",
            "top           inf\n",
            "freq        59686\n",
            "Name: c2, dtype: object\n",
            "\n",
            "\n",
            "\n",
            "count     1000000\n",
            "unique     900196\n",
            "top           inf\n",
            "freq        59686\n",
            "Name: c3, dtype: object\n",
            "\n",
            "\n",
            "\n",
            "count    1000000.000000\n",
            "mean       -1498.245216\n",
            "std         4587.081486\n",
            "min       -20004.206843\n",
            "25%           -2.781331\n",
            "50%           -1.038779\n",
            "75%            0.562105\n",
            "max            5.628726\n",
            "Name: c4, dtype: float64\n",
            "\n",
            "\n",
            "\n",
            "count     1000000\n",
            "unique          8\n",
            "top             f\n",
            "freq       125574\n",
            "Name: c5, dtype: object\n",
            "\n",
            "\n",
            "\n",
            "count     1000000\n",
            "unique          3\n",
            "top           0.0\n",
            "freq       550173\n",
            "Name: c6, dtype: object\n",
            "\n",
            "\n",
            "\n",
            "count     1000000\n",
            "unique          5\n",
            "top           4.0\n",
            "freq       259543\n",
            "Name: c7, dtype: object\n",
            "\n",
            "\n",
            "\n",
            "count     1000000\n",
            "unique          6\n",
            "top           0.0\n",
            "freq       439963\n",
            "Name: c8, dtype: object\n",
            "\n",
            "\n",
            "\n",
            "count     1000000\n",
            "unique     800136\n",
            "top             _\n",
            "freq       100040\n",
            "Name: c9, dtype: object\n",
            "\n",
            "\n",
            "\n",
            "count     1000000\n",
            "unique     900870\n",
            "top             _\n",
            "freq        99131\n",
            "Name: c10, dtype: object\n",
            "\n",
            "\n",
            "\n",
            "count        1000000\n",
            "unique           367\n",
            "top       2019-08-03\n",
            "freq            3955\n",
            "Name: c11, dtype: object\n",
            "\n",
            "\n",
            "\n",
            "count     1000000\n",
            "unique         10\n",
            "top            dd\n",
            "freq       142019\n",
            "Name: c12, dtype: object\n",
            "\n",
            "\n",
            "\n",
            "count     1000000\n",
            "unique         10\n",
            "top             y\n",
            "freq       100426\n",
            "Name: c13, dtype: object\n",
            "\n",
            "\n",
            "\n"
          ]
        }
      ]
    },
    {
      "cell_type": "markdown",
      "metadata": {
        "id": "ywPB4qopXdht"
      },
      "source": [
        "Видалимо NaN значення."
      ]
    },
    {
      "cell_type": "code",
      "metadata": {
        "id": "0G57OtbM-S3A",
        "colab": {
          "base_uri": "https://localhost:8080/"
        },
        "outputId": "9b32317f-ff29-4fde-9355-cdaca01c25ce"
      },
      "source": [
        "df.eq('_').sum()"
      ],
      "execution_count": null,
      "outputs": [
        {
          "output_type": "execute_result",
          "data": {
            "text/plain": [
              "target     99131\n",
              "c1             0\n",
              "c2         20002\n",
              "c3         20002\n",
              "c4             0\n",
              "c5             0\n",
              "c6         84902\n",
              "c7        229977\n",
              "c8        100040\n",
              "c9        100040\n",
              "c10        99131\n",
              "c11         3722\n",
              "c12       114863\n",
              "c13            0\n",
              "dtype: int64"
            ]
          },
          "metadata": {},
          "execution_count": 6
        }
      ]
    },
    {
      "cell_type": "code",
      "metadata": {
        "id": "s4cXSF-9CBG2"
      },
      "source": [
        "df_no_missing = df.copy()"
      ],
      "execution_count": null,
      "outputs": []
    },
    {
      "cell_type": "code",
      "metadata": {
        "id": "4zOLso2UDPaa"
      },
      "source": [
        "for column_name in df_no_missing.columns:\n",
        "  df_no_missing = df_no_missing[df_no_missing[column_name]!='_']\n"
      ],
      "execution_count": null,
      "outputs": []
    },
    {
      "cell_type": "code",
      "metadata": {
        "colab": {
          "base_uri": "https://localhost:8080/",
          "height": 300
        },
        "id": "SGJeGE2eDiFg",
        "outputId": "2c087e63-a45a-428d-97f8-dfd820d0db5e"
      },
      "source": [
        "df_no_missing.describe()"
      ],
      "execution_count": null,
      "outputs": [
        {
          "output_type": "execute_result",
          "data": {
            "text/html": [
              "<div>\n",
              "<style scoped>\n",
              "    .dataframe tbody tr th:only-of-type {\n",
              "        vertical-align: middle;\n",
              "    }\n",
              "\n",
              "    .dataframe tbody tr th {\n",
              "        vertical-align: top;\n",
              "    }\n",
              "\n",
              "    .dataframe thead th {\n",
              "        text-align: right;\n",
              "    }\n",
              "</style>\n",
              "<table border=\"1\" class=\"dataframe\">\n",
              "  <thead>\n",
              "    <tr style=\"text-align: right;\">\n",
              "      <th></th>\n",
              "      <th>c1</th>\n",
              "      <th>c4</th>\n",
              "    </tr>\n",
              "  </thead>\n",
              "  <tbody>\n",
              "    <tr>\n",
              "      <th>count</th>\n",
              "      <td>494458.000000</td>\n",
              "      <td>494458.000000</td>\n",
              "    </tr>\n",
              "    <tr>\n",
              "      <th>mean</th>\n",
              "      <td>-1000.303641</td>\n",
              "      <td>-1502.841588</td>\n",
              "    </tr>\n",
              "    <tr>\n",
              "      <th>std</th>\n",
              "      <td>3000.990522</td>\n",
              "      <td>4595.152046</td>\n",
              "    </tr>\n",
              "    <tr>\n",
              "      <th>min</th>\n",
              "      <td>-9999.000000</td>\n",
              "      <td>-20003.118091</td>\n",
              "    </tr>\n",
              "    <tr>\n",
              "      <th>25%</th>\n",
              "      <td>0.200000</td>\n",
              "      <td>-2.780555</td>\n",
              "    </tr>\n",
              "    <tr>\n",
              "      <th>50%</th>\n",
              "      <td>0.400000</td>\n",
              "      <td>-1.037718</td>\n",
              "    </tr>\n",
              "    <tr>\n",
              "      <th>75%</th>\n",
              "      <td>0.700000</td>\n",
              "      <td>0.561388</td>\n",
              "    </tr>\n",
              "    <tr>\n",
              "      <th>max</th>\n",
              "      <td>0.900000</td>\n",
              "      <td>5.595691</td>\n",
              "    </tr>\n",
              "  </tbody>\n",
              "</table>\n",
              "</div>"
            ],
            "text/plain": [
              "                  c1             c4\n",
              "count  494458.000000  494458.000000\n",
              "mean    -1000.303641   -1502.841588\n",
              "std      3000.990522    4595.152046\n",
              "min     -9999.000000  -20003.118091\n",
              "25%         0.200000      -2.780555\n",
              "50%         0.400000      -1.037718\n",
              "75%         0.700000       0.561388\n",
              "max         0.900000       5.595691"
            ]
          },
          "metadata": {},
          "execution_count": 9
        }
      ]
    },
    {
      "cell_type": "code",
      "metadata": {
        "colab": {
          "base_uri": "https://localhost:8080/",
          "height": 206
        },
        "id": "TFBHC5b9Dj0C",
        "outputId": "7cd2857b-f40e-4014-8312-442dba922663"
      },
      "source": [
        "df_no_missing.head()"
      ],
      "execution_count": null,
      "outputs": [
        {
          "output_type": "execute_result",
          "data": {
            "text/html": [
              "<div>\n",
              "<style scoped>\n",
              "    .dataframe tbody tr th:only-of-type {\n",
              "        vertical-align: middle;\n",
              "    }\n",
              "\n",
              "    .dataframe tbody tr th {\n",
              "        vertical-align: top;\n",
              "    }\n",
              "\n",
              "    .dataframe thead th {\n",
              "        text-align: right;\n",
              "    }\n",
              "</style>\n",
              "<table border=\"1\" class=\"dataframe\">\n",
              "  <thead>\n",
              "    <tr style=\"text-align: right;\">\n",
              "      <th></th>\n",
              "      <th>target</th>\n",
              "      <th>c1</th>\n",
              "      <th>c2</th>\n",
              "      <th>c3</th>\n",
              "      <th>c4</th>\n",
              "      <th>c5</th>\n",
              "      <th>c6</th>\n",
              "      <th>c7</th>\n",
              "      <th>c8</th>\n",
              "      <th>c9</th>\n",
              "      <th>c10</th>\n",
              "      <th>c11</th>\n",
              "      <th>c12</th>\n",
              "      <th>c13</th>\n",
              "    </tr>\n",
              "  </thead>\n",
              "  <tbody>\n",
              "    <tr>\n",
              "      <th>0</th>\n",
              "      <td>0.0</td>\n",
              "      <td>0.6</td>\n",
              "      <td>3.848024360038754</td>\n",
              "      <td>-0.12489928599664912</td>\n",
              "      <td>-0.876288</td>\n",
              "      <td>a</td>\n",
              "      <td>0.0</td>\n",
              "      <td>1.0</td>\n",
              "      <td>0.0</td>\n",
              "      <td>-1.4022953844807486</td>\n",
              "      <td>996.8002935258253</td>\n",
              "      <td>2019-07-03</td>\n",
              "      <td>qq</td>\n",
              "      <td>q</td>\n",
              "    </tr>\n",
              "    <tr>\n",
              "      <th>2</th>\n",
              "      <td>1.0</td>\n",
              "      <td>0.6</td>\n",
              "      <td>1.7903405757001267</td>\n",
              "      <td>-0.3791833083216618</td>\n",
              "      <td>1.115662</td>\n",
              "      <td>w</td>\n",
              "      <td>1.0</td>\n",
              "      <td>4.0</td>\n",
              "      <td>inf</td>\n",
              "      <td>inf</td>\n",
              "      <td>997.5618023143123</td>\n",
              "      <td>2019-09-30</td>\n",
              "      <td>aa</td>\n",
              "      <td>t</td>\n",
              "    </tr>\n",
              "    <tr>\n",
              "      <th>3</th>\n",
              "      <td>0.0</td>\n",
              "      <td>0.3</td>\n",
              "      <td>2.1368573082176185</td>\n",
              "      <td>1.8436547163343175</td>\n",
              "      <td>-2.593336</td>\n",
              "      <td>w</td>\n",
              "      <td>0.0</td>\n",
              "      <td>1.0</td>\n",
              "      <td>0.0</td>\n",
              "      <td>-0.8521568609928067</td>\n",
              "      <td>998.0647328947183</td>\n",
              "      <td>2019-06-11</td>\n",
              "      <td>dd</td>\n",
              "      <td>u</td>\n",
              "    </tr>\n",
              "    <tr>\n",
              "      <th>5</th>\n",
              "      <td>0.0</td>\n",
              "      <td>0.9</td>\n",
              "      <td>3.3369092084259573</td>\n",
              "      <td>3.6517698537743986</td>\n",
              "      <td>-4.933117</td>\n",
              "      <td>a</td>\n",
              "      <td>0.0</td>\n",
              "      <td>1.0</td>\n",
              "      <td>0.0</td>\n",
              "      <td>-2.057243578090956</td>\n",
              "      <td>996.6077513852406</td>\n",
              "      <td>2019-11-10</td>\n",
              "      <td>ww</td>\n",
              "      <td>t</td>\n",
              "    </tr>\n",
              "    <tr>\n",
              "      <th>8</th>\n",
              "      <td>0.0</td>\n",
              "      <td>0.1</td>\n",
              "      <td>3.867194988244435</td>\n",
              "      <td>1.92226877001342</td>\n",
              "      <td>-0.194144</td>\n",
              "      <td>fr</td>\n",
              "      <td>0.0</td>\n",
              "      <td>4.0</td>\n",
              "      <td>-inf</td>\n",
              "      <td>-inf</td>\n",
              "      <td>997.7076504584088</td>\n",
              "      <td>2019-07-02</td>\n",
              "      <td>dd</td>\n",
              "      <td>e</td>\n",
              "    </tr>\n",
              "  </tbody>\n",
              "</table>\n",
              "</div>"
            ],
            "text/plain": [
              "  target   c1                  c2  ...         c11  c12 c13\n",
              "0    0.0  0.6   3.848024360038754  ...  2019-07-03   qq   q\n",
              "2    1.0  0.6  1.7903405757001267  ...  2019-09-30   aa   t\n",
              "3    0.0  0.3  2.1368573082176185  ...  2019-06-11   dd   u\n",
              "5    0.0  0.9  3.3369092084259573  ...  2019-11-10   ww   t\n",
              "8    0.0  0.1   3.867194988244435  ...  2019-07-02   dd   e\n",
              "\n",
              "[5 rows x 14 columns]"
            ]
          },
          "metadata": {},
          "execution_count": 10
        }
      ]
    },
    {
      "cell_type": "code",
      "metadata": {
        "colab": {
          "base_uri": "https://localhost:8080/"
        },
        "id": "Cr1GtyhADsnF",
        "outputId": "0d1042f1-d54a-47d3-98e3-8bafd460145c"
      },
      "source": [
        "len(df_no_missing.index)"
      ],
      "execution_count": null,
      "outputs": [
        {
          "output_type": "execute_result",
          "data": {
            "text/plain": [
              "494458"
            ]
          },
          "metadata": {},
          "execution_count": 11
        }
      ]
    },
    {
      "cell_type": "code",
      "metadata": {
        "id": "dxSblitMD4tM"
      },
      "source": [
        "for column_name in df_no_missing.columns:\n",
        "  df_no_missing = df_no_missing[df_no_missing[column_name]!='inf']\n",
        "for column_name in df_no_missing.columns:\n",
        "  df_no_missing = df_no_missing[df_no_missing[column_name]!='-inf']"
      ],
      "execution_count": null,
      "outputs": []
    },
    {
      "cell_type": "code",
      "metadata": {
        "id": "JNS5bXi5XlfH"
      },
      "source": [
        ""
      ],
      "execution_count": null,
      "outputs": []
    },
    {
      "cell_type": "code",
      "metadata": {
        "colab": {
          "base_uri": "https://localhost:8080/",
          "height": 300
        },
        "id": "4LtmUvCCEPVV",
        "outputId": "d0da42fe-21c3-4a39-fdca-0e411c4ad3ef"
      },
      "source": [
        "df_no_missing.describe()"
      ],
      "execution_count": null,
      "outputs": [
        {
          "output_type": "execute_result",
          "data": {
            "text/html": [
              "<div>\n",
              "<style scoped>\n",
              "    .dataframe tbody tr th:only-of-type {\n",
              "        vertical-align: middle;\n",
              "    }\n",
              "\n",
              "    .dataframe tbody tr th {\n",
              "        vertical-align: top;\n",
              "    }\n",
              "\n",
              "    .dataframe thead th {\n",
              "        text-align: right;\n",
              "    }\n",
              "</style>\n",
              "<table border=\"1\" class=\"dataframe\">\n",
              "  <thead>\n",
              "    <tr style=\"text-align: right;\">\n",
              "      <th></th>\n",
              "      <th>c1</th>\n",
              "      <th>c4</th>\n",
              "    </tr>\n",
              "  </thead>\n",
              "  <tbody>\n",
              "    <tr>\n",
              "      <th>count</th>\n",
              "      <td>403705.000000</td>\n",
              "      <td>403705.000000</td>\n",
              "    </tr>\n",
              "    <tr>\n",
              "      <th>mean</th>\n",
              "      <td>-1000.626725</td>\n",
              "      <td>-1503.274910</td>\n",
              "    </tr>\n",
              "    <tr>\n",
              "      <th>std</th>\n",
              "      <td>3001.421750</td>\n",
              "      <td>4595.659371</td>\n",
              "    </tr>\n",
              "    <tr>\n",
              "      <th>min</th>\n",
              "      <td>-9999.000000</td>\n",
              "      <td>-20003.118091</td>\n",
              "    </tr>\n",
              "    <tr>\n",
              "      <th>25%</th>\n",
              "      <td>0.200000</td>\n",
              "      <td>-2.782043</td>\n",
              "    </tr>\n",
              "    <tr>\n",
              "      <th>50%</th>\n",
              "      <td>0.400000</td>\n",
              "      <td>-1.040021</td>\n",
              "    </tr>\n",
              "    <tr>\n",
              "      <th>75%</th>\n",
              "      <td>0.700000</td>\n",
              "      <td>0.561341</td>\n",
              "    </tr>\n",
              "    <tr>\n",
              "      <th>max</th>\n",
              "      <td>0.900000</td>\n",
              "      <td>5.595691</td>\n",
              "    </tr>\n",
              "  </tbody>\n",
              "</table>\n",
              "</div>"
            ],
            "text/plain": [
              "                  c1             c4\n",
              "count  403705.000000  403705.000000\n",
              "mean    -1000.626725   -1503.274910\n",
              "std      3001.421750    4595.659371\n",
              "min     -9999.000000  -20003.118091\n",
              "25%         0.200000      -2.782043\n",
              "50%         0.400000      -1.040021\n",
              "75%         0.700000       0.561341\n",
              "max         0.900000       5.595691"
            ]
          },
          "metadata": {},
          "execution_count": 13
        }
      ]
    },
    {
      "cell_type": "code",
      "metadata": {
        "colab": {
          "base_uri": "https://localhost:8080/",
          "height": 320
        },
        "id": "I7Ui1e2oEPtL",
        "outputId": "de792f17-81c8-4efe-a673-57e977265d4b"
      },
      "source": [
        "df_no_missing.loc[:30]"
      ],
      "execution_count": null,
      "outputs": [
        {
          "output_type": "execute_result",
          "data": {
            "text/html": [
              "<div>\n",
              "<style scoped>\n",
              "    .dataframe tbody tr th:only-of-type {\n",
              "        vertical-align: middle;\n",
              "    }\n",
              "\n",
              "    .dataframe tbody tr th {\n",
              "        vertical-align: top;\n",
              "    }\n",
              "\n",
              "    .dataframe thead th {\n",
              "        text-align: right;\n",
              "    }\n",
              "</style>\n",
              "<table border=\"1\" class=\"dataframe\">\n",
              "  <thead>\n",
              "    <tr style=\"text-align: right;\">\n",
              "      <th></th>\n",
              "      <th>target</th>\n",
              "      <th>c1</th>\n",
              "      <th>c2</th>\n",
              "      <th>c3</th>\n",
              "      <th>c4</th>\n",
              "      <th>c5</th>\n",
              "      <th>c6</th>\n",
              "      <th>c7</th>\n",
              "      <th>c8</th>\n",
              "      <th>c9</th>\n",
              "      <th>c10</th>\n",
              "      <th>c11</th>\n",
              "      <th>c12</th>\n",
              "      <th>c13</th>\n",
              "    </tr>\n",
              "  </thead>\n",
              "  <tbody>\n",
              "    <tr>\n",
              "      <th>0</th>\n",
              "      <td>0.0</td>\n",
              "      <td>0.6</td>\n",
              "      <td>3.848024360038754</td>\n",
              "      <td>-0.12489928599664912</td>\n",
              "      <td>-0.876288</td>\n",
              "      <td>a</td>\n",
              "      <td>0.0</td>\n",
              "      <td>1.0</td>\n",
              "      <td>0.0</td>\n",
              "      <td>-1.4022953844807486</td>\n",
              "      <td>996.8002935258253</td>\n",
              "      <td>2019-07-03</td>\n",
              "      <td>qq</td>\n",
              "      <td>q</td>\n",
              "    </tr>\n",
              "    <tr>\n",
              "      <th>3</th>\n",
              "      <td>0.0</td>\n",
              "      <td>0.3</td>\n",
              "      <td>2.1368573082176185</td>\n",
              "      <td>1.8436547163343175</td>\n",
              "      <td>-2.593336</td>\n",
              "      <td>w</td>\n",
              "      <td>0.0</td>\n",
              "      <td>1.0</td>\n",
              "      <td>0.0</td>\n",
              "      <td>-0.8521568609928067</td>\n",
              "      <td>998.0647328947183</td>\n",
              "      <td>2019-06-11</td>\n",
              "      <td>dd</td>\n",
              "      <td>u</td>\n",
              "    </tr>\n",
              "    <tr>\n",
              "      <th>5</th>\n",
              "      <td>0.0</td>\n",
              "      <td>0.9</td>\n",
              "      <td>3.3369092084259573</td>\n",
              "      <td>3.6517698537743986</td>\n",
              "      <td>-4.933117</td>\n",
              "      <td>a</td>\n",
              "      <td>0.0</td>\n",
              "      <td>1.0</td>\n",
              "      <td>0.0</td>\n",
              "      <td>-2.057243578090956</td>\n",
              "      <td>996.6077513852406</td>\n",
              "      <td>2019-11-10</td>\n",
              "      <td>ww</td>\n",
              "      <td>t</td>\n",
              "    </tr>\n",
              "    <tr>\n",
              "      <th>14</th>\n",
              "      <td>0.0</td>\n",
              "      <td>0.5</td>\n",
              "      <td>2.4605604259808396</td>\n",
              "      <td>-1.0860260099177776</td>\n",
              "      <td>0.377075</td>\n",
              "      <td>ew</td>\n",
              "      <td>0.0</td>\n",
              "      <td>1.0</td>\n",
              "      <td>0.0</td>\n",
              "      <td>-0.4286851198155317</td>\n",
              "      <td>998.4731458213789</td>\n",
              "      <td>2019-08-26</td>\n",
              "      <td>aa</td>\n",
              "      <td>i</td>\n",
              "    </tr>\n",
              "    <tr>\n",
              "      <th>15</th>\n",
              "      <td>1.0</td>\n",
              "      <td>0.5</td>\n",
              "      <td>2.3435554071967326</td>\n",
              "      <td>3.2197586835816976</td>\n",
              "      <td>-0.956726</td>\n",
              "      <td>w</td>\n",
              "      <td>1.0</td>\n",
              "      <td>1.0</td>\n",
              "      <td>0.0</td>\n",
              "      <td>-0.6339968006719126</td>\n",
              "      <td>996.6219271669704</td>\n",
              "      <td>2019-01-05</td>\n",
              "      <td>dd</td>\n",
              "      <td>r</td>\n",
              "    </tr>\n",
              "    <tr>\n",
              "      <th>18</th>\n",
              "      <td>1.0</td>\n",
              "      <td>0.2</td>\n",
              "      <td>1.3671410881327655</td>\n",
              "      <td>-0.9131276447006533</td>\n",
              "      <td>0.629079</td>\n",
              "      <td>fr</td>\n",
              "      <td>1.0</td>\n",
              "      <td>4.0</td>\n",
              "      <td>-1.0</td>\n",
              "      <td>-3.2801767254581264</td>\n",
              "      <td>998.2956205962417</td>\n",
              "      <td>2019-03-31</td>\n",
              "      <td>dd</td>\n",
              "      <td>q</td>\n",
              "    </tr>\n",
              "    <tr>\n",
              "      <th>20</th>\n",
              "      <td>0.0</td>\n",
              "      <td>-9999.0</td>\n",
              "      <td>1.3308118263246342</td>\n",
              "      <td>2.4733669655107877</td>\n",
              "      <td>-13112.567214</td>\n",
              "      <td>a</td>\n",
              "      <td>0.0</td>\n",
              "      <td>1.0</td>\n",
              "      <td>0.0</td>\n",
              "      <td>-1.8672460782441793</td>\n",
              "      <td>998.8664617104962</td>\n",
              "      <td>2019-12-26</td>\n",
              "      <td>qq</td>\n",
              "      <td>w</td>\n",
              "    </tr>\n",
              "    <tr>\n",
              "      <th>26</th>\n",
              "      <td>0.0</td>\n",
              "      <td>0.6</td>\n",
              "      <td>3.565367255573027</td>\n",
              "      <td>1.814284157843085</td>\n",
              "      <td>-1.225751</td>\n",
              "      <td>sd</td>\n",
              "      <td>0.0</td>\n",
              "      <td>3.0</td>\n",
              "      <td>0.0</td>\n",
              "      <td>-2.023840060553743</td>\n",
              "      <td>998.6850328293855</td>\n",
              "      <td>2019-01-07</td>\n",
              "      <td>ee</td>\n",
              "      <td>e</td>\n",
              "    </tr>\n",
              "  </tbody>\n",
              "</table>\n",
              "</div>"
            ],
            "text/plain": [
              "   target      c1                  c2  ...         c11  c12 c13\n",
              "0     0.0     0.6   3.848024360038754  ...  2019-07-03   qq   q\n",
              "3     0.0     0.3  2.1368573082176185  ...  2019-06-11   dd   u\n",
              "5     0.0     0.9  3.3369092084259573  ...  2019-11-10   ww   t\n",
              "14    0.0     0.5  2.4605604259808396  ...  2019-08-26   aa   i\n",
              "15    1.0     0.5  2.3435554071967326  ...  2019-01-05   dd   r\n",
              "18    1.0     0.2  1.3671410881327655  ...  2019-03-31   dd   q\n",
              "20    0.0 -9999.0  1.3308118263246342  ...  2019-12-26   qq   w\n",
              "26    0.0     0.6   3.565367255573027  ...  2019-01-07   ee   e\n",
              "\n",
              "[8 rows x 14 columns]"
            ]
          },
          "metadata": {},
          "execution_count": 14
        }
      ]
    },
    {
      "cell_type": "code",
      "metadata": {
        "colab": {
          "base_uri": "https://localhost:8080/"
        },
        "id": "Og6h-E61EZly",
        "outputId": "1c387efc-15ef-4551-a590-37f82517994a"
      },
      "source": [
        "for column_name in df_no_missing.columns:\n",
        "  print(df_no_missing[column_name].describe())\n",
        "  print('\\n\\n')"
      ],
      "execution_count": null,
      "outputs": [
        {
          "output_type": "stream",
          "name": "stdout",
          "text": [
            "count     403705\n",
            "unique         2\n",
            "top          0.0\n",
            "freq      317103\n",
            "Name: target, dtype: object\n",
            "\n",
            "\n",
            "\n",
            "count    403705.000000\n",
            "mean      -1000.626725\n",
            "std        3001.421750\n",
            "min       -9999.000000\n",
            "25%           0.200000\n",
            "50%           0.400000\n",
            "75%           0.700000\n",
            "max           0.900000\n",
            "Name: c1, dtype: float64\n",
            "\n",
            "\n",
            "\n",
            "count                 403705\n",
            "unique                403705\n",
            "top       2.4926184837729473\n",
            "freq                       1\n",
            "Name: c2, dtype: object\n",
            "\n",
            "\n",
            "\n",
            "count                  403705\n",
            "unique                 403705\n",
            "top       -0.1478845688845376\n",
            "freq                        1\n",
            "Name: c3, dtype: object\n",
            "\n",
            "\n",
            "\n",
            "count    403705.000000\n",
            "mean      -1503.274910\n",
            "std        4595.659371\n",
            "min      -20003.118091\n",
            "25%          -2.782043\n",
            "50%          -1.040021\n",
            "75%           0.561341\n",
            "max           5.595691\n",
            "Name: c4, dtype: float64\n",
            "\n",
            "\n",
            "\n",
            "count     403705\n",
            "unique         8\n",
            "top            w\n",
            "freq       50708\n",
            "Name: c5, dtype: object\n",
            "\n",
            "\n",
            "\n",
            "count     403705\n",
            "unique         2\n",
            "top          0.0\n",
            "freq      264950\n",
            "Name: c6, dtype: object\n",
            "\n",
            "\n",
            "\n",
            "count     403705\n",
            "unique         4\n",
            "top          4.0\n",
            "freq      128422\n",
            "Name: c7, dtype: object\n",
            "\n",
            "\n",
            "\n",
            "count     403705\n",
            "unique         3\n",
            "top          0.0\n",
            "freq      230379\n",
            "Name: c8, dtype: object\n",
            "\n",
            "\n",
            "\n",
            "count                 403705\n",
            "unique                403705\n",
            "top       -1.559736220579745\n",
            "freq                       1\n",
            "Name: c9, dtype: object\n",
            "\n",
            "\n",
            "\n",
            "count                403705\n",
            "unique               403705\n",
            "top       998.7918349546421\n",
            "freq                      1\n",
            "Name: c10, dtype: object\n",
            "\n",
            "\n",
            "\n",
            "count         403705\n",
            "unique           366\n",
            "top       2019-01-12\n",
            "freq            1505\n",
            "Name: c11, dtype: object\n",
            "\n",
            "\n",
            "\n",
            "count     403705\n",
            "unique         9\n",
            "top           dd\n",
            "freq       62514\n",
            "Name: c12, dtype: object\n",
            "\n",
            "\n",
            "\n",
            "count     403705\n",
            "unique        10\n",
            "top            e\n",
            "freq       40567\n",
            "Name: c13, dtype: object\n",
            "\n",
            "\n",
            "\n"
          ]
        }
      ]
    },
    {
      "cell_type": "code",
      "metadata": {
        "colab": {
          "base_uri": "https://localhost:8080/",
          "height": 283
        },
        "id": "V-TcVNw9FPIz",
        "outputId": "2781f263-d07e-44b1-c7eb-fb99c7b0a7c1"
      },
      "source": [
        "df_no_missing.c1.plot.kde()"
      ],
      "execution_count": null,
      "outputs": [
        {
          "output_type": "execute_result",
          "data": {
            "text/plain": [
              "<matplotlib.axes._subplots.AxesSubplot at 0x7f56d12b3f50>"
            ]
          },
          "metadata": {},
          "execution_count": 16
        },
        {
          "output_type": "display_data",
          "data": {
            "image/png": "[encoded data removed]",
            "text/plain": [
              "<Figure size 432x288 with 1 Axes>"
            ]
          },
          "metadata": {
            "needs_background": "light"
          }
        }
      ]
    },
    {
      "cell_type": "code",
      "metadata": {
        "colab": {
          "base_uri": "https://localhost:8080/",
          "height": 297
        },
        "id": "kpYqO0IaGeZC",
        "outputId": "4e2beed4-4530-4901-d33c-b4d51c5105ea"
      },
      "source": [
        "sns.boxplot(x = df_no_missing.c4)"
      ],
      "execution_count": null,
      "outputs": [
        {
          "output_type": "execute_result",
          "data": {
            "text/plain": [
              "<matplotlib.axes._subplots.AxesSubplot at 0x7f56c6a47350>"
            ]
          },
          "metadata": {},
          "execution_count": 17
        },
        {
          "output_type": "display_data",
          "data": {
            "image/png": "[encoded data removed]",
            "text/plain": [
              "<Figure size 432x288 with 1 Axes>"
            ]
          },
          "metadata": {
            "needs_background": "light"
          }
        }
      ]
    },
    {
      "cell_type": "code",
      "metadata": {
        "colab": {
          "base_uri": "https://localhost:8080/",
          "height": 226
        },
        "id": "B1XzrESSGkZP",
        "outputId": "aa77fdc4-4f8e-4488-b7ae-d3a8bb6dce09"
      },
      "source": [
        "df_no_missing.head()"
      ],
      "execution_count": null,
      "outputs": [
        {
          "output_type": "execute_result",
          "data": {
            "text/html": [
              "<div>\n",
              "<style scoped>\n",
              "    .dataframe tbody tr th:only-of-type {\n",
              "        vertical-align: middle;\n",
              "    }\n",
              "\n",
              "    .dataframe tbody tr th {\n",
              "        vertical-align: top;\n",
              "    }\n",
              "\n",
              "    .dataframe thead th {\n",
              "        text-align: right;\n",
              "    }\n",
              "</style>\n",
              "<table border=\"1\" class=\"dataframe\">\n",
              "  <thead>\n",
              "    <tr style=\"text-align: right;\">\n",
              "      <th></th>\n",
              "      <th>target</th>\n",
              "      <th>c1</th>\n",
              "      <th>c2</th>\n",
              "      <th>c3</th>\n",
              "      <th>c4</th>\n",
              "      <th>c5</th>\n",
              "      <th>c6</th>\n",
              "      <th>c7</th>\n",
              "      <th>c8</th>\n",
              "      <th>c9</th>\n",
              "      <th>c10</th>\n",
              "      <th>c11</th>\n",
              "      <th>c12</th>\n",
              "      <th>c13</th>\n",
              "    </tr>\n",
              "  </thead>\n",
              "  <tbody>\n",
              "    <tr>\n",
              "      <th>0</th>\n",
              "      <td>0.0</td>\n",
              "      <td>0.6</td>\n",
              "      <td>3.848024360038754</td>\n",
              "      <td>-0.12489928599664912</td>\n",
              "      <td>-0.876288</td>\n",
              "      <td>a</td>\n",
              "      <td>0.0</td>\n",
              "      <td>1.0</td>\n",
              "      <td>0.0</td>\n",
              "      <td>-1.4022953844807486</td>\n",
              "      <td>996.8002935258253</td>\n",
              "      <td>2019-07-03</td>\n",
              "      <td>qq</td>\n",
              "      <td>q</td>\n",
              "    </tr>\n",
              "    <tr>\n",
              "      <th>3</th>\n",
              "      <td>0.0</td>\n",
              "      <td>0.3</td>\n",
              "      <td>2.1368573082176185</td>\n",
              "      <td>1.8436547163343175</td>\n",
              "      <td>-2.593336</td>\n",
              "      <td>w</td>\n",
              "      <td>0.0</td>\n",
              "      <td>1.0</td>\n",
              "      <td>0.0</td>\n",
              "      <td>-0.8521568609928067</td>\n",
              "      <td>998.0647328947183</td>\n",
              "      <td>2019-06-11</td>\n",
              "      <td>dd</td>\n",
              "      <td>u</td>\n",
              "    </tr>\n",
              "    <tr>\n",
              "      <th>5</th>\n",
              "      <td>0.0</td>\n",
              "      <td>0.9</td>\n",
              "      <td>3.3369092084259573</td>\n",
              "      <td>3.6517698537743986</td>\n",
              "      <td>-4.933117</td>\n",
              "      <td>a</td>\n",
              "      <td>0.0</td>\n",
              "      <td>1.0</td>\n",
              "      <td>0.0</td>\n",
              "      <td>-2.057243578090956</td>\n",
              "      <td>996.6077513852406</td>\n",
              "      <td>2019-11-10</td>\n",
              "      <td>ww</td>\n",
              "      <td>t</td>\n",
              "    </tr>\n",
              "    <tr>\n",
              "      <th>14</th>\n",
              "      <td>0.0</td>\n",
              "      <td>0.5</td>\n",
              "      <td>2.4605604259808396</td>\n",
              "      <td>-1.0860260099177776</td>\n",
              "      <td>0.377075</td>\n",
              "      <td>ew</td>\n",
              "      <td>0.0</td>\n",
              "      <td>1.0</td>\n",
              "      <td>0.0</td>\n",
              "      <td>-0.4286851198155317</td>\n",
              "      <td>998.4731458213789</td>\n",
              "      <td>2019-08-26</td>\n",
              "      <td>aa</td>\n",
              "      <td>i</td>\n",
              "    </tr>\n",
              "    <tr>\n",
              "      <th>15</th>\n",
              "      <td>1.0</td>\n",
              "      <td>0.5</td>\n",
              "      <td>2.3435554071967326</td>\n",
              "      <td>3.2197586835816976</td>\n",
              "      <td>-0.956726</td>\n",
              "      <td>w</td>\n",
              "      <td>1.0</td>\n",
              "      <td>1.0</td>\n",
              "      <td>0.0</td>\n",
              "      <td>-0.6339968006719126</td>\n",
              "      <td>996.6219271669704</td>\n",
              "      <td>2019-01-05</td>\n",
              "      <td>dd</td>\n",
              "      <td>r</td>\n",
              "    </tr>\n",
              "  </tbody>\n",
              "</table>\n",
              "</div>"
            ],
            "text/plain": [
              "   target   c1                  c2  ...         c11  c12 c13\n",
              "0     0.0  0.6   3.848024360038754  ...  2019-07-03   qq   q\n",
              "3     0.0  0.3  2.1368573082176185  ...  2019-06-11   dd   u\n",
              "5     0.0  0.9  3.3369092084259573  ...  2019-11-10   ww   t\n",
              "14    0.0  0.5  2.4605604259808396  ...  2019-08-26   aa   i\n",
              "15    1.0  0.5  2.3435554071967326  ...  2019-01-05   dd   r\n",
              "\n",
              "[5 rows x 14 columns]"
            ]
          },
          "metadata": {},
          "execution_count": 18
        }
      ]
    },
    {
      "cell_type": "code",
      "metadata": {
        "id": "ZANxT2c8I4Yv"
      },
      "source": [
        "df_no_missing[\"c5\"] = df_no_missing['c5'].astype('category')\n",
        "df_no_missing[\"c12\"] = df_no_missing['c12'].astype('category')\n",
        "df_no_missing[\"c13\"] = df_no_missing['c13'].astype('category')\n",
        "df_no_missing[\"c5_cat\"] = df_no_missing[\"c5\"].cat.codes\n",
        "df_no_missing[\"c12_cat\"] = df_no_missing[\"c12\"].cat.codes\n",
        "df_no_missing[\"c13_cat\"] = df_no_missing[\"c13\"].cat.codes"
      ],
      "execution_count": null,
      "outputs": []
    },
    {
      "cell_type": "code",
      "metadata": {
        "colab": {
          "base_uri": "https://localhost:8080/",
          "height": 226
        },
        "id": "AxAWl0IEJeGI",
        "outputId": "40061db2-bca7-4624-ccfa-fbe100b9cb99"
      },
      "source": [
        "df_no_missing.head()"
      ],
      "execution_count": null,
      "outputs": [
        {
          "output_type": "execute_result",
          "data": {
            "text/html": [
              "<div>\n",
              "<style scoped>\n",
              "    .dataframe tbody tr th:only-of-type {\n",
              "        vertical-align: middle;\n",
              "    }\n",
              "\n",
              "    .dataframe tbody tr th {\n",
              "        vertical-align: top;\n",
              "    }\n",
              "\n",
              "    .dataframe thead th {\n",
              "        text-align: right;\n",
              "    }\n",
              "</style>\n",
              "<table border=\"1\" class=\"dataframe\">\n",
              "  <thead>\n",
              "    <tr style=\"text-align: right;\">\n",
              "      <th></th>\n",
              "      <th>target</th>\n",
              "      <th>c1</th>\n",
              "      <th>c2</th>\n",
              "      <th>c3</th>\n",
              "      <th>c4</th>\n",
              "      <th>c5</th>\n",
              "      <th>c6</th>\n",
              "      <th>c7</th>\n",
              "      <th>c8</th>\n",
              "      <th>c9</th>\n",
              "      <th>c10</th>\n",
              "      <th>c11</th>\n",
              "      <th>c12</th>\n",
              "      <th>c13</th>\n",
              "      <th>c5_cat</th>\n",
              "      <th>c12_cat</th>\n",
              "      <th>c13_cat</th>\n",
              "    </tr>\n",
              "  </thead>\n",
              "  <tbody>\n",
              "    <tr>\n",
              "      <th>0</th>\n",
              "      <td>0.0</td>\n",
              "      <td>0.6</td>\n",
              "      <td>3.848024360038754</td>\n",
              "      <td>-0.12489928599664912</td>\n",
              "      <td>-0.876288</td>\n",
              "      <td>a</td>\n",
              "      <td>0.0</td>\n",
              "      <td>1.0</td>\n",
              "      <td>0.0</td>\n",
              "      <td>-1.4022953844807486</td>\n",
              "      <td>996.8002935258253</td>\n",
              "      <td>2019-07-03</td>\n",
              "      <td>qq</td>\n",
              "      <td>q</td>\n",
              "      <td>0</td>\n",
              "      <td>4</td>\n",
              "      <td>4</td>\n",
              "    </tr>\n",
              "    <tr>\n",
              "      <th>3</th>\n",
              "      <td>0.0</td>\n",
              "      <td>0.3</td>\n",
              "      <td>2.1368573082176185</td>\n",
              "      <td>1.8436547163343175</td>\n",
              "      <td>-2.593336</td>\n",
              "      <td>w</td>\n",
              "      <td>0.0</td>\n",
              "      <td>1.0</td>\n",
              "      <td>0.0</td>\n",
              "      <td>-0.8521568609928067</td>\n",
              "      <td>998.0647328947183</td>\n",
              "      <td>2019-06-11</td>\n",
              "      <td>dd</td>\n",
              "      <td>u</td>\n",
              "      <td>7</td>\n",
              "      <td>2</td>\n",
              "      <td>7</td>\n",
              "    </tr>\n",
              "    <tr>\n",
              "      <th>5</th>\n",
              "      <td>0.0</td>\n",
              "      <td>0.9</td>\n",
              "      <td>3.3369092084259573</td>\n",
              "      <td>3.6517698537743986</td>\n",
              "      <td>-4.933117</td>\n",
              "      <td>a</td>\n",
              "      <td>0.0</td>\n",
              "      <td>1.0</td>\n",
              "      <td>0.0</td>\n",
              "      <td>-2.057243578090956</td>\n",
              "      <td>996.6077513852406</td>\n",
              "      <td>2019-11-10</td>\n",
              "      <td>ww</td>\n",
              "      <td>t</td>\n",
              "      <td>0</td>\n",
              "      <td>7</td>\n",
              "      <td>6</td>\n",
              "    </tr>\n",
              "    <tr>\n",
              "      <th>14</th>\n",
              "      <td>0.0</td>\n",
              "      <td>0.5</td>\n",
              "      <td>2.4605604259808396</td>\n",
              "      <td>-1.0860260099177776</td>\n",
              "      <td>0.377075</td>\n",
              "      <td>ew</td>\n",
              "      <td>0.0</td>\n",
              "      <td>1.0</td>\n",
              "      <td>0.0</td>\n",
              "      <td>-0.4286851198155317</td>\n",
              "      <td>998.4731458213789</td>\n",
              "      <td>2019-08-26</td>\n",
              "      <td>aa</td>\n",
              "      <td>i</td>\n",
              "      <td>2</td>\n",
              "      <td>0</td>\n",
              "      <td>1</td>\n",
              "    </tr>\n",
              "    <tr>\n",
              "      <th>15</th>\n",
              "      <td>1.0</td>\n",
              "      <td>0.5</td>\n",
              "      <td>2.3435554071967326</td>\n",
              "      <td>3.2197586835816976</td>\n",
              "      <td>-0.956726</td>\n",
              "      <td>w</td>\n",
              "      <td>1.0</td>\n",
              "      <td>1.0</td>\n",
              "      <td>0.0</td>\n",
              "      <td>-0.6339968006719126</td>\n",
              "      <td>996.6219271669704</td>\n",
              "      <td>2019-01-05</td>\n",
              "      <td>dd</td>\n",
              "      <td>r</td>\n",
              "      <td>7</td>\n",
              "      <td>2</td>\n",
              "      <td>5</td>\n",
              "    </tr>\n",
              "  </tbody>\n",
              "</table>\n",
              "</div>"
            ],
            "text/plain": [
              "   target   c1                  c2  ... c5_cat  c12_cat c13_cat\n",
              "0     0.0  0.6   3.848024360038754  ...      0        4       4\n",
              "3     0.0  0.3  2.1368573082176185  ...      7        2       7\n",
              "5     0.0  0.9  3.3369092084259573  ...      0        7       6\n",
              "14    0.0  0.5  2.4605604259808396  ...      2        0       1\n",
              "15    1.0  0.5  2.3435554071967326  ...      7        2       5\n",
              "\n",
              "[5 rows x 17 columns]"
            ]
          },
          "metadata": {},
          "execution_count": 40
        }
      ]
    },
    {
      "cell_type": "code",
      "metadata": {
        "id": "zKRz2qB1J6CL"
      },
      "source": [
        "df_no_missing[\"c2\"] = df_no_missing['c2'].astype('float64')\n",
        "df_no_missing[\"c3\"] = df_no_missing['c3'].astype('float64')\n",
        "df_no_missing[\"c9\"] = df_no_missing['c9'].astype('float64')\n",
        "df_no_missing[\"c10\"] = df_no_missing['c10'].astype('float64')"
      ],
      "execution_count": null,
      "outputs": []
    },
    {
      "cell_type": "code",
      "metadata": {
        "colab": {
          "base_uri": "https://localhost:8080/",
          "height": 300
        },
        "id": "UOd2VwvUKMB9",
        "outputId": "9cfd6f7b-436c-47e9-a258-741b04db97eb"
      },
      "source": [
        "df_no_missing.describe()"
      ],
      "execution_count": null,
      "outputs": [
        {
          "output_type": "execute_result",
          "data": {
            "text/html": [
              "<div>\n",
              "<style scoped>\n",
              "    .dataframe tbody tr th:only-of-type {\n",
              "        vertical-align: middle;\n",
              "    }\n",
              "\n",
              "    .dataframe tbody tr th {\n",
              "        vertical-align: top;\n",
              "    }\n",
              "\n",
              "    .dataframe thead th {\n",
              "        text-align: right;\n",
              "    }\n",
              "</style>\n",
              "<table border=\"1\" class=\"dataframe\">\n",
              "  <thead>\n",
              "    <tr style=\"text-align: right;\">\n",
              "      <th></th>\n",
              "      <th>c1</th>\n",
              "      <th>c2</th>\n",
              "      <th>c3</th>\n",
              "      <th>c4</th>\n",
              "      <th>c9</th>\n",
              "      <th>c10</th>\n",
              "      <th>c5_cat</th>\n",
              "      <th>c12_cat</th>\n",
              "      <th>c13_cat</th>\n",
              "    </tr>\n",
              "  </thead>\n",
              "  <tbody>\n",
              "    <tr>\n",
              "      <th>count</th>\n",
              "      <td>403705.000000</td>\n",
              "      <td>403705.000000</td>\n",
              "      <td>403705.000000</td>\n",
              "      <td>403705.000000</td>\n",
              "      <td>403705.000000</td>\n",
              "      <td>403705.000000</td>\n",
              "      <td>403705.000000</td>\n",
              "      <td>403705.000000</td>\n",
              "      <td>403705.000000</td>\n",
              "    </tr>\n",
              "    <tr>\n",
              "      <th>mean</th>\n",
              "      <td>-1000.626725</td>\n",
              "      <td>2.499690</td>\n",
              "      <td>1.000588</td>\n",
              "      <td>-1503.274910</td>\n",
              "      <td>-0.839612</td>\n",
              "      <td>998.214703</td>\n",
              "      <td>3.501133</td>\n",
              "      <td>3.617733</td>\n",
              "      <td>4.500351</td>\n",
              "    </tr>\n",
              "    <tr>\n",
              "      <th>std</th>\n",
              "      <td>3001.421750</td>\n",
              "      <td>0.865889</td>\n",
              "      <td>1.530407</td>\n",
              "      <td>4595.659371</td>\n",
              "      <td>1.438207</td>\n",
              "      <td>1.355987</td>\n",
              "      <td>2.291090</td>\n",
              "      <td>2.720037</td>\n",
              "      <td>2.873457</td>\n",
              "    </tr>\n",
              "    <tr>\n",
              "      <th>min</th>\n",
              "      <td>-9999.000000</td>\n",
              "      <td>1.000007</td>\n",
              "      <td>-2.987991</td>\n",
              "      <td>-20003.118091</td>\n",
              "      <td>-4.984577</td>\n",
              "      <td>995.004627</td>\n",
              "      <td>0.000000</td>\n",
              "      <td>0.000000</td>\n",
              "      <td>0.000000</td>\n",
              "    </tr>\n",
              "    <tr>\n",
              "      <th>25%</th>\n",
              "      <td>0.200000</td>\n",
              "      <td>1.749808</td>\n",
              "      <td>-0.105945</td>\n",
              "      <td>-2.782043</td>\n",
              "      <td>-1.898663</td>\n",
              "      <td>997.179502</td>\n",
              "      <td>2.000000</td>\n",
              "      <td>1.000000</td>\n",
              "      <td>2.000000</td>\n",
              "    </tr>\n",
              "    <tr>\n",
              "      <th>50%</th>\n",
              "      <td>0.400000</td>\n",
              "      <td>2.499770</td>\n",
              "      <td>1.001572</td>\n",
              "      <td>-1.040021</td>\n",
              "      <td>-0.838742</td>\n",
              "      <td>998.214485</td>\n",
              "      <td>3.000000</td>\n",
              "      <td>3.000000</td>\n",
              "      <td>5.000000</td>\n",
              "    </tr>\n",
              "    <tr>\n",
              "      <th>75%</th>\n",
              "      <td>0.700000</td>\n",
              "      <td>3.250478</td>\n",
              "      <td>2.104774</td>\n",
              "      <td>0.561341</td>\n",
              "      <td>0.219503</td>\n",
              "      <td>999.228279</td>\n",
              "      <td>5.000000</td>\n",
              "      <td>7.000000</td>\n",
              "      <td>7.000000</td>\n",
              "    </tr>\n",
              "    <tr>\n",
              "      <th>max</th>\n",
              "      <td>0.900000</td>\n",
              "      <td>3.999997</td>\n",
              "      <td>4.983165</td>\n",
              "      <td>5.595691</td>\n",
              "      <td>2.984625</td>\n",
              "      <td>1001.992724</td>\n",
              "      <td>7.000000</td>\n",
              "      <td>8.000000</td>\n",
              "      <td>9.000000</td>\n",
              "    </tr>\n",
              "  </tbody>\n",
              "</table>\n",
              "</div>"
            ],
            "text/plain": [
              "                  c1             c2  ...        c12_cat        c13_cat\n",
              "count  403705.000000  403705.000000  ...  403705.000000  403705.000000\n",
              "mean    -1000.626725       2.499690  ...       3.617733       4.500351\n",
              "std      3001.421750       0.865889  ...       2.720037       2.873457\n",
              "min     -9999.000000       1.000007  ...       0.000000       0.000000\n",
              "25%         0.200000       1.749808  ...       1.000000       2.000000\n",
              "50%         0.400000       2.499770  ...       3.000000       5.000000\n",
              "75%         0.700000       3.250478  ...       7.000000       7.000000\n",
              "max         0.900000       3.999997  ...       8.000000       9.000000\n",
              "\n",
              "[8 rows x 9 columns]"
            ]
          },
          "metadata": {},
          "execution_count": 43
        }
      ]
    },
    {
      "cell_type": "code",
      "metadata": {
        "colab": {
          "base_uri": "https://localhost:8080/",
          "height": 243
        },
        "id": "otA4_tqhK76-",
        "outputId": "6c114856-b730-4dd5-baf1-d73aff748983"
      },
      "source": [
        "g = sns.FacetGrid(df_no_missing, col='target')\n",
        "g.map(plt.hist, 'c2', bins=20)"
      ],
      "execution_count": null,
      "outputs": [
        {
          "output_type": "execute_result",
          "data": {
            "text/plain": [
              "<seaborn.axisgrid.FacetGrid at 0x7fb3d0ca67d0>"
            ]
          },
          "metadata": {},
          "execution_count": 44
        },
        {
          "output_type": "display_data",
          "data": {
            "image/png": "[encoded data removed]",
            "text/plain": [
              "<Figure size 432x216 with 2 Axes>"
            ]
          },
          "metadata": {
            "needs_background": "light"
          }
        }
      ]
    },
    {
      "cell_type": "markdown",
      "metadata": {
        "id": "bWbSDyn-MvQN"
      },
      "source": [
        "Не має кореляції значення с2 та target відповідно можна видалити"
      ]
    },
    {
      "cell_type": "code",
      "metadata": {
        "colab": {
          "base_uri": "https://localhost:8080/",
          "height": 243
        },
        "id": "Z9qYn-ilMamq",
        "outputId": "bdfb8242-09fb-4796-f3d4-28aace98329a"
      },
      "source": [
        "g = sns.FacetGrid(df_no_missing, col='target')\n",
        "g.map(plt.hist, 'c3', bins=20)"
      ],
      "execution_count": null,
      "outputs": [
        {
          "output_type": "execute_result",
          "data": {
            "text/plain": [
              "<seaborn.axisgrid.FacetGrid at 0x7fb3d0b6ae50>"
            ]
          },
          "metadata": {},
          "execution_count": 45
        },
        {
          "output_type": "display_data",
          "data": {
            "image/png": "[encoded data removed]",
            "text/plain": [
              "<Figure size 432x216 with 2 Axes>"
            ]
          },
          "metadata": {
            "needs_background": "light"
          }
        }
      ]
    },
    {
      "cell_type": "code",
      "metadata": {
        "colab": {
          "base_uri": "https://localhost:8080/"
        },
        "id": "89xmpAGxM2b8",
        "outputId": "90543573-3806-455d-afb5-aff149aeafe3"
      },
      "source": [
        "df_no_missing['target'].value_counts()"
      ],
      "execution_count": null,
      "outputs": [
        {
          "output_type": "execute_result",
          "data": {
            "text/plain": [
              "0.0    317103\n",
              "1.0     86602\n",
              "Name: target, dtype: int64"
            ]
          },
          "metadata": {},
          "execution_count": 54
        }
      ]
    },
    {
      "cell_type": "markdown",
      "metadata": {
        "id": "vCC3sqlANxPN"
      },
      "source": [
        "Прямої залежності також не має. c3 можна видалити"
      ]
    },
    {
      "cell_type": "code",
      "metadata": {
        "colab": {
          "base_uri": "https://localhost:8080/",
          "height": 243
        },
        "id": "OExrdz6VNKuL",
        "outputId": "00ba42c2-30d4-4757-e154-1230038a7f8f"
      },
      "source": [
        "g = sns.FacetGrid(df_no_missing, col='target')\n",
        "g.map(plt.hist, 'c9', bins=20)"
      ],
      "execution_count": null,
      "outputs": [
        {
          "output_type": "execute_result",
          "data": {
            "text/plain": [
              "<seaborn.axisgrid.FacetGrid at 0x7fb3d0a91f50>"
            ]
          },
          "metadata": {},
          "execution_count": 55
        },
        {
          "output_type": "display_data",
          "data": {
            "image/png": "[encoded data removed]",
            "text/plain": [
              "<Figure size 432x216 with 2 Axes>"
            ]
          },
          "metadata": {
            "needs_background": "light"
          }
        }
      ]
    },
    {
      "cell_type": "code",
      "metadata": {
        "colab": {
          "base_uri": "https://localhost:8080/",
          "height": 243
        },
        "id": "gw2kTcZLN_ro",
        "outputId": "f999fbe9-045a-47b1-b155-4d5166c3c338"
      },
      "source": [
        "g = sns.FacetGrid(df_no_missing, col='target')\n",
        "g.map(plt.hist, 'c10', bins=20)"
      ],
      "execution_count": null,
      "outputs": [
        {
          "output_type": "execute_result",
          "data": {
            "text/plain": [
              "<seaborn.axisgrid.FacetGrid at 0x7fb3cce31cd0>"
            ]
          },
          "metadata": {},
          "execution_count": 56
        },
        {
          "output_type": "display_data",
          "data": {
            "image/png": "[encoded data removed]",
            "text/plain": [
              "<Figure size 432x216 with 2 Axes>"
            ]
          },
          "metadata": {
            "needs_background": "light"
          }
        }
      ]
    },
    {
      "cell_type": "code",
      "metadata": {
        "colab": {
          "base_uri": "https://localhost:8080/",
          "height": 243
        },
        "id": "PYXah3a0Oa07",
        "outputId": "082eea0d-0db3-459e-8ec3-a62209edb02b"
      },
      "source": [
        "g = sns.FacetGrid(df_no_missing, col='target')\n",
        "g.map(plt.hist, 'c1', bins=5)"
      ],
      "execution_count": null,
      "outputs": [
        {
          "output_type": "execute_result",
          "data": {
            "text/plain": [
              "<seaborn.axisgrid.FacetGrid at 0x7fb3d0745f10>"
            ]
          },
          "metadata": {},
          "execution_count": 62
        },
        {
          "output_type": "display_data",
          "data": {
            "image/png": "[encoded data removed]",
            "text/plain": [
              "<Figure size 432x216 with 2 Axes>"
            ]
          },
          "metadata": {
            "needs_background": "light"
          }
        }
      ]
    },
    {
      "cell_type": "code",
      "metadata": {
        "colab": {
          "base_uri": "https://localhost:8080/"
        },
        "id": "qhbyxgqNOm-Q",
        "outputId": "ea3ae0c1-6849-4402-fe78-9c382d6a74f6"
      },
      "source": [
        "df_no_missing.loc[df_no_missing['c4']>-5000].count()"
      ],
      "execution_count": null,
      "outputs": [
        {
          "output_type": "execute_result",
          "data": {
            "text/plain": [
              "target     363287\n",
              "c1         363287\n",
              "c2         363287\n",
              "c3         363287\n",
              "c4         363287\n",
              "c5         363287\n",
              "c6         363287\n",
              "c7         363287\n",
              "c8         363287\n",
              "c9         363287\n",
              "c10        363287\n",
              "c11        363287\n",
              "c12        363287\n",
              "c13        363287\n",
              "c5_cat     363287\n",
              "c12_cat    363287\n",
              "c13_cat    363287\n",
              "dtype: int64"
            ]
          },
          "metadata": {},
          "execution_count": 61
        }
      ]
    },
    {
      "cell_type": "code",
      "metadata": {
        "colab": {
          "base_uri": "https://localhost:8080/",
          "height": 331
        },
        "id": "CziCk-YtPC-s",
        "outputId": "68599792-1399-4720-8997-8f75041f828a"
      },
      "source": [
        "df_no_missing.corr()"
      ],
      "execution_count": null,
      "outputs": [
        {
          "output_type": "execute_result",
          "data": {
            "text/html": [
              "<div>\n",
              "<style scoped>\n",
              "    .dataframe tbody tr th:only-of-type {\n",
              "        vertical-align: middle;\n",
              "    }\n",
              "\n",
              "    .dataframe tbody tr th {\n",
              "        vertical-align: top;\n",
              "    }\n",
              "\n",
              "    .dataframe thead th {\n",
              "        text-align: right;\n",
              "    }\n",
              "</style>\n",
              "<table border=\"1\" class=\"dataframe\">\n",
              "  <thead>\n",
              "    <tr style=\"text-align: right;\">\n",
              "      <th></th>\n",
              "      <th>c1</th>\n",
              "      <th>c2</th>\n",
              "      <th>c3</th>\n",
              "      <th>c4</th>\n",
              "      <th>c9</th>\n",
              "      <th>c10</th>\n",
              "      <th>c5_cat</th>\n",
              "      <th>c12_cat</th>\n",
              "      <th>c13_cat</th>\n",
              "    </tr>\n",
              "  </thead>\n",
              "  <tbody>\n",
              "    <tr>\n",
              "      <th>c1</th>\n",
              "      <td>1.000000</td>\n",
              "      <td>0.001529</td>\n",
              "      <td>0.000547</td>\n",
              "      <td>0.980193</td>\n",
              "      <td>0.002708</td>\n",
              "      <td>0.000954</td>\n",
              "      <td>-0.000995</td>\n",
              "      <td>-0.001752</td>\n",
              "      <td>-0.000352</td>\n",
              "    </tr>\n",
              "    <tr>\n",
              "      <th>c2</th>\n",
              "      <td>0.001529</td>\n",
              "      <td>1.000000</td>\n",
              "      <td>0.506086</td>\n",
              "      <td>0.001228</td>\n",
              "      <td>-0.002638</td>\n",
              "      <td>0.001835</td>\n",
              "      <td>0.000357</td>\n",
              "      <td>-0.001872</td>\n",
              "      <td>0.003035</td>\n",
              "    </tr>\n",
              "    <tr>\n",
              "      <th>c3</th>\n",
              "      <td>0.000547</td>\n",
              "      <td>0.506086</td>\n",
              "      <td>1.000000</td>\n",
              "      <td>0.000064</td>\n",
              "      <td>-0.001389</td>\n",
              "      <td>-0.002019</td>\n",
              "      <td>0.001409</td>\n",
              "      <td>-0.000425</td>\n",
              "      <td>0.005256</td>\n",
              "    </tr>\n",
              "    <tr>\n",
              "      <th>c4</th>\n",
              "      <td>0.980193</td>\n",
              "      <td>0.001228</td>\n",
              "      <td>0.000064</td>\n",
              "      <td>1.000000</td>\n",
              "      <td>0.003169</td>\n",
              "      <td>0.001017</td>\n",
              "      <td>-0.001107</td>\n",
              "      <td>-0.001294</td>\n",
              "      <td>-0.000416</td>\n",
              "    </tr>\n",
              "    <tr>\n",
              "      <th>c9</th>\n",
              "      <td>0.002708</td>\n",
              "      <td>-0.002638</td>\n",
              "      <td>-0.001389</td>\n",
              "      <td>0.003169</td>\n",
              "      <td>1.000000</td>\n",
              "      <td>-0.088804</td>\n",
              "      <td>-0.002372</td>\n",
              "      <td>-0.011366</td>\n",
              "      <td>-0.002463</td>\n",
              "    </tr>\n",
              "    <tr>\n",
              "      <th>c10</th>\n",
              "      <td>0.000954</td>\n",
              "      <td>0.001835</td>\n",
              "      <td>-0.002019</td>\n",
              "      <td>0.001017</td>\n",
              "      <td>-0.088804</td>\n",
              "      <td>1.000000</td>\n",
              "      <td>-0.001403</td>\n",
              "      <td>0.010905</td>\n",
              "      <td>0.002032</td>\n",
              "    </tr>\n",
              "    <tr>\n",
              "      <th>c5_cat</th>\n",
              "      <td>-0.000995</td>\n",
              "      <td>0.000357</td>\n",
              "      <td>0.001409</td>\n",
              "      <td>-0.001107</td>\n",
              "      <td>-0.002372</td>\n",
              "      <td>-0.001403</td>\n",
              "      <td>1.000000</td>\n",
              "      <td>0.000996</td>\n",
              "      <td>0.000397</td>\n",
              "    </tr>\n",
              "    <tr>\n",
              "      <th>c12_cat</th>\n",
              "      <td>-0.001752</td>\n",
              "      <td>-0.001872</td>\n",
              "      <td>-0.000425</td>\n",
              "      <td>-0.001294</td>\n",
              "      <td>-0.011366</td>\n",
              "      <td>0.010905</td>\n",
              "      <td>0.000996</td>\n",
              "      <td>1.000000</td>\n",
              "      <td>0.001449</td>\n",
              "    </tr>\n",
              "    <tr>\n",
              "      <th>c13_cat</th>\n",
              "      <td>-0.000352</td>\n",
              "      <td>0.003035</td>\n",
              "      <td>0.005256</td>\n",
              "      <td>-0.000416</td>\n",
              "      <td>-0.002463</td>\n",
              "      <td>0.002032</td>\n",
              "      <td>0.000397</td>\n",
              "      <td>0.001449</td>\n",
              "      <td>1.000000</td>\n",
              "    </tr>\n",
              "  </tbody>\n",
              "</table>\n",
              "</div>"
            ],
            "text/plain": [
              "               c1        c2        c3  ...    c5_cat   c12_cat   c13_cat\n",
              "c1       1.000000  0.001529  0.000547  ... -0.000995 -0.001752 -0.000352\n",
              "c2       0.001529  1.000000  0.506086  ...  0.000357 -0.001872  0.003035\n",
              "c3       0.000547  0.506086  1.000000  ...  0.001409 -0.000425  0.005256\n",
              "c4       0.980193  0.001228  0.000064  ... -0.001107 -0.001294 -0.000416\n",
              "c9       0.002708 -0.002638 -0.001389  ... -0.002372 -0.011366 -0.002463\n",
              "c10      0.000954  0.001835 -0.002019  ... -0.001403  0.010905  0.002032\n",
              "c5_cat  -0.000995  0.000357  0.001409  ...  1.000000  0.000996  0.000397\n",
              "c12_cat -0.001752 -0.001872 -0.000425  ...  0.000996  1.000000  0.001449\n",
              "c13_cat -0.000352  0.003035  0.005256  ...  0.000397  0.001449  1.000000\n",
              "\n",
              "[9 rows x 9 columns]"
            ]
          },
          "metadata": {},
          "execution_count": 63
        }
      ]
    },
    {
      "cell_type": "code",
      "metadata": {
        "colab": {
          "base_uri": "https://localhost:8080/",
          "height": 424
        },
        "id": "mbAajYOKPz_g",
        "outputId": "cd524aa1-41f9-46a5-d0af-28b89b7c24e2"
      },
      "source": [
        "df_no_missing.drop(columns=['c5','c12','c13'])"
      ],
      "execution_count": null,
      "outputs": [
        {
          "output_type": "execute_result",
          "data": {
            "text/html": [
              "<div>\n",
              "<style scoped>\n",
              "    .dataframe tbody tr th:only-of-type {\n",
              "        vertical-align: middle;\n",
              "    }\n",
              "\n",
              "    .dataframe tbody tr th {\n",
              "        vertical-align: top;\n",
              "    }\n",
              "\n",
              "    .dataframe thead th {\n",
              "        text-align: right;\n",
              "    }\n",
              "</style>\n",
              "<table border=\"1\" class=\"dataframe\">\n",
              "  <thead>\n",
              "    <tr style=\"text-align: right;\">\n",
              "      <th></th>\n",
              "      <th>target</th>\n",
              "      <th>c1</th>\n",
              "      <th>c2</th>\n",
              "      <th>c3</th>\n",
              "      <th>c4</th>\n",
              "      <th>c6</th>\n",
              "      <th>c7</th>\n",
              "      <th>c8</th>\n",
              "      <th>c9</th>\n",
              "      <th>c10</th>\n",
              "      <th>c11</th>\n",
              "      <th>c5_cat</th>\n",
              "      <th>c12_cat</th>\n",
              "      <th>c13_cat</th>\n",
              "    </tr>\n",
              "  </thead>\n",
              "  <tbody>\n",
              "    <tr>\n",
              "      <th>0</th>\n",
              "      <td>0.0</td>\n",
              "      <td>0.6</td>\n",
              "      <td>3.848024</td>\n",
              "      <td>-0.124899</td>\n",
              "      <td>-0.876288</td>\n",
              "      <td>0.0</td>\n",
              "      <td>1.0</td>\n",
              "      <td>0.0</td>\n",
              "      <td>-1.402295</td>\n",
              "      <td>996.800294</td>\n",
              "      <td>2019-07-03</td>\n",
              "      <td>0</td>\n",
              "      <td>4</td>\n",
              "      <td>4</td>\n",
              "    </tr>\n",
              "    <tr>\n",
              "      <th>3</th>\n",
              "      <td>0.0</td>\n",
              "      <td>0.3</td>\n",
              "      <td>2.136857</td>\n",
              "      <td>1.843655</td>\n",
              "      <td>-2.593336</td>\n",
              "      <td>0.0</td>\n",
              "      <td>1.0</td>\n",
              "      <td>0.0</td>\n",
              "      <td>-0.852157</td>\n",
              "      <td>998.064733</td>\n",
              "      <td>2019-06-11</td>\n",
              "      <td>7</td>\n",
              "      <td>2</td>\n",
              "      <td>7</td>\n",
              "    </tr>\n",
              "    <tr>\n",
              "      <th>5</th>\n",
              "      <td>0.0</td>\n",
              "      <td>0.9</td>\n",
              "      <td>3.336909</td>\n",
              "      <td>3.651770</td>\n",
              "      <td>-4.933117</td>\n",
              "      <td>0.0</td>\n",
              "      <td>1.0</td>\n",
              "      <td>0.0</td>\n",
              "      <td>-2.057244</td>\n",
              "      <td>996.607751</td>\n",
              "      <td>2019-11-10</td>\n",
              "      <td>0</td>\n",
              "      <td>7</td>\n",
              "      <td>6</td>\n",
              "    </tr>\n",
              "    <tr>\n",
              "      <th>14</th>\n",
              "      <td>0.0</td>\n",
              "      <td>0.5</td>\n",
              "      <td>2.460560</td>\n",
              "      <td>-1.086026</td>\n",
              "      <td>0.377075</td>\n",
              "      <td>0.0</td>\n",
              "      <td>1.0</td>\n",
              "      <td>0.0</td>\n",
              "      <td>-0.428685</td>\n",
              "      <td>998.473146</td>\n",
              "      <td>2019-08-26</td>\n",
              "      <td>2</td>\n",
              "      <td>0</td>\n",
              "      <td>1</td>\n",
              "    </tr>\n",
              "    <tr>\n",
              "      <th>15</th>\n",
              "      <td>1.0</td>\n",
              "      <td>0.5</td>\n",
              "      <td>2.343555</td>\n",
              "      <td>3.219759</td>\n",
              "      <td>-0.956726</td>\n",
              "      <td>1.0</td>\n",
              "      <td>1.0</td>\n",
              "      <td>0.0</td>\n",
              "      <td>-0.633997</td>\n",
              "      <td>996.621927</td>\n",
              "      <td>2019-01-05</td>\n",
              "      <td>7</td>\n",
              "      <td>2</td>\n",
              "      <td>5</td>\n",
              "    </tr>\n",
              "    <tr>\n",
              "      <th>...</th>\n",
              "      <td>...</td>\n",
              "      <td>...</td>\n",
              "      <td>...</td>\n",
              "      <td>...</td>\n",
              "      <td>...</td>\n",
              "      <td>...</td>\n",
              "      <td>...</td>\n",
              "      <td>...</td>\n",
              "      <td>...</td>\n",
              "      <td>...</td>\n",
              "      <td>...</td>\n",
              "      <td>...</td>\n",
              "      <td>...</td>\n",
              "      <td>...</td>\n",
              "    </tr>\n",
              "    <tr>\n",
              "      <th>999984</th>\n",
              "      <td>0.0</td>\n",
              "      <td>0.9</td>\n",
              "      <td>3.020081</td>\n",
              "      <td>4.181214</td>\n",
              "      <td>1.577680</td>\n",
              "      <td>1.0</td>\n",
              "      <td>1.0</td>\n",
              "      <td>0.0</td>\n",
              "      <td>-0.290880</td>\n",
              "      <td>997.021913</td>\n",
              "      <td>2019-12-02</td>\n",
              "      <td>4</td>\n",
              "      <td>7</td>\n",
              "      <td>2</td>\n",
              "    </tr>\n",
              "    <tr>\n",
              "      <th>999987</th>\n",
              "      <td>1.0</td>\n",
              "      <td>0.6</td>\n",
              "      <td>1.546952</td>\n",
              "      <td>1.499901</td>\n",
              "      <td>-1.349404</td>\n",
              "      <td>1.0</td>\n",
              "      <td>4.0</td>\n",
              "      <td>-1.0</td>\n",
              "      <td>-3.270191</td>\n",
              "      <td>998.832762</td>\n",
              "      <td>2019-02-03</td>\n",
              "      <td>6</td>\n",
              "      <td>5</td>\n",
              "      <td>3</td>\n",
              "    </tr>\n",
              "    <tr>\n",
              "      <th>999991</th>\n",
              "      <td>1.0</td>\n",
              "      <td>0.2</td>\n",
              "      <td>2.540117</td>\n",
              "      <td>3.806851</td>\n",
              "      <td>-1.195931</td>\n",
              "      <td>0.0</td>\n",
              "      <td>4.0</td>\n",
              "      <td>0.0</td>\n",
              "      <td>-0.365027</td>\n",
              "      <td>996.411379</td>\n",
              "      <td>2019-08-24</td>\n",
              "      <td>6</td>\n",
              "      <td>4</td>\n",
              "      <td>1</td>\n",
              "    </tr>\n",
              "    <tr>\n",
              "      <th>999995</th>\n",
              "      <td>1.0</td>\n",
              "      <td>0.2</td>\n",
              "      <td>2.772329</td>\n",
              "      <td>0.315275</td>\n",
              "      <td>-1.702342</td>\n",
              "      <td>1.0</td>\n",
              "      <td>1.0</td>\n",
              "      <td>0.0</td>\n",
              "      <td>-0.143542</td>\n",
              "      <td>997.367567</td>\n",
              "      <td>2019-12-07</td>\n",
              "      <td>4</td>\n",
              "      <td>3</td>\n",
              "      <td>9</td>\n",
              "    </tr>\n",
              "    <tr>\n",
              "      <th>999998</th>\n",
              "      <td>0.0</td>\n",
              "      <td>0.9</td>\n",
              "      <td>1.009465</td>\n",
              "      <td>-0.191627</td>\n",
              "      <td>-1.001801</td>\n",
              "      <td>0.0</td>\n",
              "      <td>2.0</td>\n",
              "      <td>1.0</td>\n",
              "      <td>1.693114</td>\n",
              "      <td>997.533930</td>\n",
              "      <td>2019-10-04</td>\n",
              "      <td>1</td>\n",
              "      <td>8</td>\n",
              "      <td>5</td>\n",
              "    </tr>\n",
              "  </tbody>\n",
              "</table>\n",
              "<p>403705 rows × 14 columns</p>\n",
              "</div>"
            ],
            "text/plain": [
              "       target   c1        c2        c3  ...         c11 c5_cat c12_cat c13_cat\n",
              "0         0.0  0.6  3.848024 -0.124899  ...  2019-07-03      0       4       4\n",
              "3         0.0  0.3  2.136857  1.843655  ...  2019-06-11      7       2       7\n",
              "5         0.0  0.9  3.336909  3.651770  ...  2019-11-10      0       7       6\n",
              "14        0.0  0.5  2.460560 -1.086026  ...  2019-08-26      2       0       1\n",
              "15        1.0  0.5  2.343555  3.219759  ...  2019-01-05      7       2       5\n",
              "...       ...  ...       ...       ...  ...         ...    ...     ...     ...\n",
              "999984    0.0  0.9  3.020081  4.181214  ...  2019-12-02      4       7       2\n",
              "999987    1.0  0.6  1.546952  1.499901  ...  2019-02-03      6       5       3\n",
              "999991    1.0  0.2  2.540117  3.806851  ...  2019-08-24      6       4       1\n",
              "999995    1.0  0.2  2.772329  0.315275  ...  2019-12-07      4       3       9\n",
              "999998    0.0  0.9  1.009465 -0.191627  ...  2019-10-04      1       8       5\n",
              "\n",
              "[403705 rows x 14 columns]"
            ]
          },
          "metadata": {},
          "execution_count": 66
        }
      ]
    },
    {
      "cell_type": "code",
      "metadata": {
        "id": "6N1TNTUqQsNR"
      },
      "source": [
        "date = df_no_missing['c11']"
      ],
      "execution_count": null,
      "outputs": []
    },
    {
      "cell_type": "code",
      "metadata": {
        "colab": {
          "base_uri": "https://localhost:8080/",
          "height": 424
        },
        "id": "VMHhJyohQypl",
        "outputId": "c17ad85c-e923-4600-86c8-7b733c0ea105"
      },
      "source": [
        "df_no_missing.drop(columns=['c11'])"
      ],
      "execution_count": null,
      "outputs": [
        {
          "output_type": "execute_result",
          "data": {
            "text/html": [
              "<div>\n",
              "<style scoped>\n",
              "    .dataframe tbody tr th:only-of-type {\n",
              "        vertical-align: middle;\n",
              "    }\n",
              "\n",
              "    .dataframe tbody tr th {\n",
              "        vertical-align: top;\n",
              "    }\n",
              "\n",
              "    .dataframe thead th {\n",
              "        text-align: right;\n",
              "    }\n",
              "</style>\n",
              "<table border=\"1\" class=\"dataframe\">\n",
              "  <thead>\n",
              "    <tr style=\"text-align: right;\">\n",
              "      <th></th>\n",
              "      <th>target</th>\n",
              "      <th>c1</th>\n",
              "      <th>c2</th>\n",
              "      <th>c3</th>\n",
              "      <th>c4</th>\n",
              "      <th>c5</th>\n",
              "      <th>c6</th>\n",
              "      <th>c7</th>\n",
              "      <th>c8</th>\n",
              "      <th>c9</th>\n",
              "      <th>c10</th>\n",
              "      <th>c12</th>\n",
              "      <th>c13</th>\n",
              "      <th>c5_cat</th>\n",
              "      <th>c12_cat</th>\n",
              "      <th>c13_cat</th>\n",
              "    </tr>\n",
              "  </thead>\n",
              "  <tbody>\n",
              "    <tr>\n",
              "      <th>0</th>\n",
              "      <td>0.0</td>\n",
              "      <td>0.6</td>\n",
              "      <td>3.848024</td>\n",
              "      <td>-0.124899</td>\n",
              "      <td>-0.876288</td>\n",
              "      <td>a</td>\n",
              "      <td>0.0</td>\n",
              "      <td>1.0</td>\n",
              "      <td>0.0</td>\n",
              "      <td>-1.402295</td>\n",
              "      <td>996.800294</td>\n",
              "      <td>qq</td>\n",
              "      <td>q</td>\n",
              "      <td>0</td>\n",
              "      <td>4</td>\n",
              "      <td>4</td>\n",
              "    </tr>\n",
              "    <tr>\n",
              "      <th>3</th>\n",
              "      <td>0.0</td>\n",
              "      <td>0.3</td>\n",
              "      <td>2.136857</td>\n",
              "      <td>1.843655</td>\n",
              "      <td>-2.593336</td>\n",
              "      <td>w</td>\n",
              "      <td>0.0</td>\n",
              "      <td>1.0</td>\n",
              "      <td>0.0</td>\n",
              "      <td>-0.852157</td>\n",
              "      <td>998.064733</td>\n",
              "      <td>dd</td>\n",
              "      <td>u</td>\n",
              "      <td>7</td>\n",
              "      <td>2</td>\n",
              "      <td>7</td>\n",
              "    </tr>\n",
              "    <tr>\n",
              "      <th>5</th>\n",
              "      <td>0.0</td>\n",
              "      <td>0.9</td>\n",
              "      <td>3.336909</td>\n",
              "      <td>3.651770</td>\n",
              "      <td>-4.933117</td>\n",
              "      <td>a</td>\n",
              "      <td>0.0</td>\n",
              "      <td>1.0</td>\n",
              "      <td>0.0</td>\n",
              "      <td>-2.057244</td>\n",
              "      <td>996.607751</td>\n",
              "      <td>ww</td>\n",
              "      <td>t</td>\n",
              "      <td>0</td>\n",
              "      <td>7</td>\n",
              "      <td>6</td>\n",
              "    </tr>\n",
              "    <tr>\n",
              "      <th>14</th>\n",
              "      <td>0.0</td>\n",
              "      <td>0.5</td>\n",
              "      <td>2.460560</td>\n",
              "      <td>-1.086026</td>\n",
              "      <td>0.377075</td>\n",
              "      <td>ew</td>\n",
              "      <td>0.0</td>\n",
              "      <td>1.0</td>\n",
              "      <td>0.0</td>\n",
              "      <td>-0.428685</td>\n",
              "      <td>998.473146</td>\n",
              "      <td>aa</td>\n",
              "      <td>i</td>\n",
              "      <td>2</td>\n",
              "      <td>0</td>\n",
              "      <td>1</td>\n",
              "    </tr>\n",
              "    <tr>\n",
              "      <th>15</th>\n",
              "      <td>1.0</td>\n",
              "      <td>0.5</td>\n",
              "      <td>2.343555</td>\n",
              "      <td>3.219759</td>\n",
              "      <td>-0.956726</td>\n",
              "      <td>w</td>\n",
              "      <td>1.0</td>\n",
              "      <td>1.0</td>\n",
              "      <td>0.0</td>\n",
              "      <td>-0.633997</td>\n",
              "      <td>996.621927</td>\n",
              "      <td>dd</td>\n",
              "      <td>r</td>\n",
              "      <td>7</td>\n",
              "      <td>2</td>\n",
              "      <td>5</td>\n",
              "    </tr>\n",
              "    <tr>\n",
              "      <th>...</th>\n",
              "      <td>...</td>\n",
              "      <td>...</td>\n",
              "      <td>...</td>\n",
              "      <td>...</td>\n",
              "      <td>...</td>\n",
              "      <td>...</td>\n",
              "      <td>...</td>\n",
              "      <td>...</td>\n",
              "      <td>...</td>\n",
              "      <td>...</td>\n",
              "      <td>...</td>\n",
              "      <td>...</td>\n",
              "      <td>...</td>\n",
              "      <td>...</td>\n",
              "      <td>...</td>\n",
              "      <td>...</td>\n",
              "    </tr>\n",
              "    <tr>\n",
              "      <th>999984</th>\n",
              "      <td>0.0</td>\n",
              "      <td>0.9</td>\n",
              "      <td>3.020081</td>\n",
              "      <td>4.181214</td>\n",
              "      <td>1.577680</td>\n",
              "      <td>fr</td>\n",
              "      <td>1.0</td>\n",
              "      <td>1.0</td>\n",
              "      <td>0.0</td>\n",
              "      <td>-0.290880</td>\n",
              "      <td>997.021913</td>\n",
              "      <td>ww</td>\n",
              "      <td>o</td>\n",
              "      <td>4</td>\n",
              "      <td>7</td>\n",
              "      <td>2</td>\n",
              "    </tr>\n",
              "    <tr>\n",
              "      <th>999987</th>\n",
              "      <td>1.0</td>\n",
              "      <td>0.6</td>\n",
              "      <td>1.546952</td>\n",
              "      <td>1.499901</td>\n",
              "      <td>-1.349404</td>\n",
              "      <td>sd</td>\n",
              "      <td>1.0</td>\n",
              "      <td>4.0</td>\n",
              "      <td>-1.0</td>\n",
              "      <td>-3.270191</td>\n",
              "      <td>998.832762</td>\n",
              "      <td>rr</td>\n",
              "      <td>p</td>\n",
              "      <td>6</td>\n",
              "      <td>5</td>\n",
              "      <td>3</td>\n",
              "    </tr>\n",
              "    <tr>\n",
              "      <th>999991</th>\n",
              "      <td>1.0</td>\n",
              "      <td>0.2</td>\n",
              "      <td>2.540117</td>\n",
              "      <td>3.806851</td>\n",
              "      <td>-1.195931</td>\n",
              "      <td>sd</td>\n",
              "      <td>0.0</td>\n",
              "      <td>4.0</td>\n",
              "      <td>0.0</td>\n",
              "      <td>-0.365027</td>\n",
              "      <td>996.411379</td>\n",
              "      <td>qq</td>\n",
              "      <td>i</td>\n",
              "      <td>6</td>\n",
              "      <td>4</td>\n",
              "      <td>1</td>\n",
              "    </tr>\n",
              "    <tr>\n",
              "      <th>999995</th>\n",
              "      <td>1.0</td>\n",
              "      <td>0.2</td>\n",
              "      <td>2.772329</td>\n",
              "      <td>0.315275</td>\n",
              "      <td>-1.702342</td>\n",
              "      <td>fr</td>\n",
              "      <td>1.0</td>\n",
              "      <td>1.0</td>\n",
              "      <td>0.0</td>\n",
              "      <td>-0.143542</td>\n",
              "      <td>997.367567</td>\n",
              "      <td>ee</td>\n",
              "      <td>y</td>\n",
              "      <td>4</td>\n",
              "      <td>3</td>\n",
              "      <td>9</td>\n",
              "    </tr>\n",
              "    <tr>\n",
              "      <th>999998</th>\n",
              "      <td>0.0</td>\n",
              "      <td>0.9</td>\n",
              "      <td>1.009465</td>\n",
              "      <td>-0.191627</td>\n",
              "      <td>-1.001801</td>\n",
              "      <td>d</td>\n",
              "      <td>0.0</td>\n",
              "      <td>2.0</td>\n",
              "      <td>1.0</td>\n",
              "      <td>1.693114</td>\n",
              "      <td>997.533930</td>\n",
              "      <td>yy</td>\n",
              "      <td>r</td>\n",
              "      <td>1</td>\n",
              "      <td>8</td>\n",
              "      <td>5</td>\n",
              "    </tr>\n",
              "  </tbody>\n",
              "</table>\n",
              "<p>403705 rows × 16 columns</p>\n",
              "</div>"
            ],
            "text/plain": [
              "       target   c1        c2        c3  ...  c13 c5_cat c12_cat c13_cat\n",
              "0         0.0  0.6  3.848024 -0.124899  ...    q      0       4       4\n",
              "3         0.0  0.3  2.136857  1.843655  ...    u      7       2       7\n",
              "5         0.0  0.9  3.336909  3.651770  ...    t      0       7       6\n",
              "14        0.0  0.5  2.460560 -1.086026  ...    i      2       0       1\n",
              "15        1.0  0.5  2.343555  3.219759  ...    r      7       2       5\n",
              "...       ...  ...       ...       ...  ...  ...    ...     ...     ...\n",
              "999984    0.0  0.9  3.020081  4.181214  ...    o      4       7       2\n",
              "999987    1.0  0.6  1.546952  1.499901  ...    p      6       5       3\n",
              "999991    1.0  0.2  2.540117  3.806851  ...    i      6       4       1\n",
              "999995    1.0  0.2  2.772329  0.315275  ...    y      4       3       9\n",
              "999998    0.0  0.9  1.009465 -0.191627  ...    r      1       8       5\n",
              "\n",
              "[403705 rows x 16 columns]"
            ]
          },
          "metadata": {},
          "execution_count": 69
        }
      ]
    },
    {
      "cell_type": "code",
      "metadata": {
        "colab": {
          "base_uri": "https://localhost:8080/",
          "height": 741
        },
        "id": "eKClczHmQ-_r",
        "outputId": "e3c164cf-1406-4943-a504-3b01d0b3b8c6"
      },
      "source": [
        "colormap = plt.cm.RdBu\n",
        "plt.figure(figsize=(14,12))\n",
        "plt.title('Pearson Correlation of Features', y=1.05, size=15)\n",
        "sns.heatmap(df_no_missing.drop(columns=['c5','c11','c12','c13']).astype(float).corr(),linewidths=0.1,vmax=1.0, \n",
        "            square=True, cmap=colormap, linecolor='white', annot=True)"
      ],
      "execution_count": null,
      "outputs": [
        {
          "output_type": "execute_result",
          "data": {
            "text/plain": [
              "<matplotlib.axes._subplots.AxesSubplot at 0x7fb3d054f2d0>"
            ]
          },
          "metadata": {},
          "execution_count": 70
        },
        {
          "output_type": "display_data",
          "data": {
            "image/png": "[encoded data removed]",
            "text/plain": [
              "<Figure size 1008x864 with 2 Axes>"
            ]
          },
          "metadata": {
            "needs_background": "light"
          }
        }
      ]
    },
    {
      "cell_type": "markdown",
      "metadata": {
        "id": "Vh4IpVGjRkVT"
      },
      "source": [
        "Можна бачити, що categorical data майже не має кореляції з target, їх можна прибрати, як і с1,c2,c3,c4,c7. c6,c8, c9,c10 мають суттєвий вплив на target, тому їх залишаємо."
      ]
    },
    {
      "cell_type": "code",
      "metadata": {
        "colab": {
          "base_uri": "https://localhost:8080/",
          "height": 300
        },
        "id": "L7dU2Nw1RQ2w",
        "outputId": "5a58c0e7-cfef-4713-9907-18b792557699"
      },
      "source": [
        "df_no_missing.describe()"
      ],
      "execution_count": null,
      "outputs": [
        {
          "output_type": "execute_result",
          "data": {
            "text/html": [
              "<div>\n",
              "<style scoped>\n",
              "    .dataframe tbody tr th:only-of-type {\n",
              "        vertical-align: middle;\n",
              "    }\n",
              "\n",
              "    .dataframe tbody tr th {\n",
              "        vertical-align: top;\n",
              "    }\n",
              "\n",
              "    .dataframe thead th {\n",
              "        text-align: right;\n",
              "    }\n",
              "</style>\n",
              "<table border=\"1\" class=\"dataframe\">\n",
              "  <thead>\n",
              "    <tr style=\"text-align: right;\">\n",
              "      <th></th>\n",
              "      <th>c1</th>\n",
              "      <th>c2</th>\n",
              "      <th>c3</th>\n",
              "      <th>c4</th>\n",
              "      <th>c9</th>\n",
              "      <th>c10</th>\n",
              "      <th>c5_cat</th>\n",
              "      <th>c12_cat</th>\n",
              "      <th>c13_cat</th>\n",
              "    </tr>\n",
              "  </thead>\n",
              "  <tbody>\n",
              "    <tr>\n",
              "      <th>count</th>\n",
              "      <td>403705.000000</td>\n",
              "      <td>403705.000000</td>\n",
              "      <td>403705.000000</td>\n",
              "      <td>403705.000000</td>\n",
              "      <td>403705.000000</td>\n",
              "      <td>403705.000000</td>\n",
              "      <td>403705.000000</td>\n",
              "      <td>403705.000000</td>\n",
              "      <td>403705.000000</td>\n",
              "    </tr>\n",
              "    <tr>\n",
              "      <th>mean</th>\n",
              "      <td>-1000.626725</td>\n",
              "      <td>2.499690</td>\n",
              "      <td>1.000588</td>\n",
              "      <td>-1503.274910</td>\n",
              "      <td>-0.839612</td>\n",
              "      <td>998.214703</td>\n",
              "      <td>3.501133</td>\n",
              "      <td>3.617733</td>\n",
              "      <td>4.500351</td>\n",
              "    </tr>\n",
              "    <tr>\n",
              "      <th>std</th>\n",
              "      <td>3001.421750</td>\n",
              "      <td>0.865889</td>\n",
              "      <td>1.530407</td>\n",
              "      <td>4595.659371</td>\n",
              "      <td>1.438207</td>\n",
              "      <td>1.355987</td>\n",
              "      <td>2.291090</td>\n",
              "      <td>2.720037</td>\n",
              "      <td>2.873457</td>\n",
              "    </tr>\n",
              "    <tr>\n",
              "      <th>min</th>\n",
              "      <td>-9999.000000</td>\n",
              "      <td>1.000007</td>\n",
              "      <td>-2.987991</td>\n",
              "      <td>-20003.118091</td>\n",
              "      <td>-4.984577</td>\n",
              "      <td>995.004627</td>\n",
              "      <td>0.000000</td>\n",
              "      <td>0.000000</td>\n",
              "      <td>0.000000</td>\n",
              "    </tr>\n",
              "    <tr>\n",
              "      <th>25%</th>\n",
              "      <td>0.200000</td>\n",
              "      <td>1.749808</td>\n",
              "      <td>-0.105945</td>\n",
              "      <td>-2.782043</td>\n",
              "      <td>-1.898663</td>\n",
              "      <td>997.179502</td>\n",
              "      <td>2.000000</td>\n",
              "      <td>1.000000</td>\n",
              "      <td>2.000000</td>\n",
              "    </tr>\n",
              "    <tr>\n",
              "      <th>50%</th>\n",
              "      <td>0.400000</td>\n",
              "      <td>2.499770</td>\n",
              "      <td>1.001572</td>\n",
              "      <td>-1.040021</td>\n",
              "      <td>-0.838742</td>\n",
              "      <td>998.214485</td>\n",
              "      <td>3.000000</td>\n",
              "      <td>3.000000</td>\n",
              "      <td>5.000000</td>\n",
              "    </tr>\n",
              "    <tr>\n",
              "      <th>75%</th>\n",
              "      <td>0.700000</td>\n",
              "      <td>3.250478</td>\n",
              "      <td>2.104774</td>\n",
              "      <td>0.561341</td>\n",
              "      <td>0.219503</td>\n",
              "      <td>999.228279</td>\n",
              "      <td>5.000000</td>\n",
              "      <td>7.000000</td>\n",
              "      <td>7.000000</td>\n",
              "    </tr>\n",
              "    <tr>\n",
              "      <th>max</th>\n",
              "      <td>0.900000</td>\n",
              "      <td>3.999997</td>\n",
              "      <td>4.983165</td>\n",
              "      <td>5.595691</td>\n",
              "      <td>2.984625</td>\n",
              "      <td>1001.992724</td>\n",
              "      <td>7.000000</td>\n",
              "      <td>8.000000</td>\n",
              "      <td>9.000000</td>\n",
              "    </tr>\n",
              "  </tbody>\n",
              "</table>\n",
              "</div>"
            ],
            "text/plain": [
              "                  c1             c2  ...        c12_cat        c13_cat\n",
              "count  403705.000000  403705.000000  ...  403705.000000  403705.000000\n",
              "mean    -1000.626725       2.499690  ...       3.617733       4.500351\n",
              "std      3001.421750       0.865889  ...       2.720037       2.873457\n",
              "min     -9999.000000       1.000007  ...       0.000000       0.000000\n",
              "25%         0.200000       1.749808  ...       1.000000       2.000000\n",
              "50%         0.400000       2.499770  ...       3.000000       5.000000\n",
              "75%         0.700000       3.250478  ...       7.000000       7.000000\n",
              "max         0.900000       3.999997  ...       8.000000       9.000000\n",
              "\n",
              "[8 rows x 9 columns]"
            ]
          },
          "metadata": {},
          "execution_count": 71
        }
      ]
    },
    {
      "cell_type": "markdown",
      "metadata": {
        "id": "q78So21-ToWn"
      },
      "source": [
        "Тобто точно залишаємо c6,c8, c9,c10. Перевіримо також кореляцію з датою c11 та приберемо outliers значення з c1 та с2 та спробуємо ще раз."
      ]
    },
    {
      "cell_type": "code",
      "metadata": {
        "id": "AgFXM72WSvdS"
      },
      "source": [
        ""
      ],
      "execution_count": null,
      "outputs": []
    },
    {
      "cell_type": "code",
      "metadata": {
        "colab": {
          "base_uri": "https://localhost:8080/",
          "height": 243
        },
        "id": "EdWercdbUzFO",
        "outputId": "1f52c7fa-2f6f-4164-9edc-ebf29ba1552b"
      },
      "source": [
        "g = sns.FacetGrid(df_no_missing, col='target')\n",
        "g.map(plt.hist, 'c11', bins=10)"
      ],
      "execution_count": null,
      "outputs": [
        {
          "output_type": "execute_result",
          "data": {
            "text/plain": [
              "<seaborn.axisgrid.FacetGrid at 0x7fb3d07d9450>"
            ]
          },
          "metadata": {},
          "execution_count": 74
        },
        {
          "output_type": "display_data",
          "data": {
            "image/png": "[encoded data removed]",
            "text/plain": [
              "<Figure size 432x216 with 2 Axes>"
            ]
          },
          "metadata": {
            "needs_background": "light"
          }
        }
      ]
    },
    {
      "cell_type": "markdown",
      "metadata": {
        "id": "Hr5KoPymVc-Z"
      },
      "source": [
        "Також бачимо, що немає зв`язку."
      ]
    },
    {
      "cell_type": "code",
      "metadata": {
        "id": "HS2PYkSmVcyG"
      },
      "source": [
        "del df"
      ],
      "execution_count": null,
      "outputs": []
    },
    {
      "cell_type": "code",
      "metadata": {
        "colab": {
          "base_uri": "https://localhost:8080/",
          "height": 283
        },
        "id": "A65wR2ReVKr-",
        "outputId": "18b80837-a881-4d59-ca98-4f7a39202ad3"
      },
      "source": [
        "df_no_missing.c1.plot.kde()"
      ],
      "execution_count": null,
      "outputs": [
        {
          "output_type": "execute_result",
          "data": {
            "text/plain": [
              "<matplotlib.axes._subplots.AxesSubplot at 0x7f56c62902d0>"
            ]
          },
          "metadata": {},
          "execution_count": 22
        },
        {
          "output_type": "display_data",
          "data": {
            "image/png": "[encoded data removed]",
            "text/plain": [
              "<Figure size 432x288 with 1 Axes>"
            ]
          },
          "metadata": {
            "needs_background": "light"
          }
        }
      ]
    },
    {
      "cell_type": "code",
      "metadata": {
        "colab": {
          "base_uri": "https://localhost:8080/",
          "height": 283
        },
        "id": "pnCp0qgaV_Bm",
        "outputId": "b2194771-5a73-4827-c5bf-81e1969d7549"
      },
      "source": [
        "df_no_missing.c4.plot.kde()"
      ],
      "execution_count": null,
      "outputs": [
        {
          "output_type": "execute_result",
          "data": {
            "text/plain": [
              "<matplotlib.axes._subplots.AxesSubplot at 0x7f56c61e8c50>"
            ]
          },
          "metadata": {},
          "execution_count": 23
        },
        {
          "output_type": "display_data",
          "data": {
            "image/png": "[encoded data removed]",
            "text/plain": [
              "<Figure size 432x288 with 1 Axes>"
            ]
          },
          "metadata": {
            "needs_background": "light"
          }
        }
      ]
    },
    {
      "cell_type": "code",
      "metadata": {
        "id": "21eKaDgEYTCU"
      },
      "source": [
        "df_clr=df_no_missing[df_no_missing.c1>-2500]\n"
      ],
      "execution_count": null,
      "outputs": []
    },
    {
      "cell_type": "code",
      "metadata": {
        "id": "0A4uk9nNYsEN"
      },
      "source": [
        "df_clr= df_clr[df_clr.c4>-3000]"
      ],
      "execution_count": null,
      "outputs": []
    },
    {
      "cell_type": "code",
      "metadata": {
        "id": "C3McV1YPZiTY"
      },
      "source": [
        "del df_no_missing"
      ],
      "execution_count": null,
      "outputs": []
    },
    {
      "cell_type": "code",
      "metadata": {
        "id": "nHBcNNymbCNY"
      },
      "source": [
        "df_clr['c11'] = pd.to_datetime(df_clr.c11)\n",
        "df_clr.c11=pd.to_numeric(df_clr.c11)"
      ],
      "execution_count": null,
      "outputs": []
    },
    {
      "cell_type": "code",
      "metadata": {
        "colab": {
          "base_uri": "https://localhost:8080/",
          "height": 206
        },
        "id": "PRKYfOYobREo",
        "outputId": "40a59c04-a598-4b7a-ff42-03bde0f128ed"
      },
      "source": [
        "df_clr.head()"
      ],
      "execution_count": null,
      "outputs": [
        {
          "output_type": "execute_result",
          "data": {
            "text/html": [
              "<div>\n",
              "<style scoped>\n",
              "    .dataframe tbody tr th:only-of-type {\n",
              "        vertical-align: middle;\n",
              "    }\n",
              "\n",
              "    .dataframe tbody tr th {\n",
              "        vertical-align: top;\n",
              "    }\n",
              "\n",
              "    .dataframe thead th {\n",
              "        text-align: right;\n",
              "    }\n",
              "</style>\n",
              "<table border=\"1\" class=\"dataframe\">\n",
              "  <thead>\n",
              "    <tr style=\"text-align: right;\">\n",
              "      <th></th>\n",
              "      <th>target</th>\n",
              "      <th>c1</th>\n",
              "      <th>c2</th>\n",
              "      <th>c3</th>\n",
              "      <th>c4</th>\n",
              "      <th>c5</th>\n",
              "      <th>c6</th>\n",
              "      <th>c7</th>\n",
              "      <th>c8</th>\n",
              "      <th>c9</th>\n",
              "      <th>c10</th>\n",
              "      <th>c11</th>\n",
              "      <th>c12</th>\n",
              "      <th>c13</th>\n",
              "      <th>c5_cat</th>\n",
              "      <th>c12_cat</th>\n",
              "      <th>c13_cat</th>\n",
              "    </tr>\n",
              "  </thead>\n",
              "  <tbody>\n",
              "    <tr>\n",
              "      <th>0</th>\n",
              "      <td>0.0</td>\n",
              "      <td>0.6</td>\n",
              "      <td>3.848024</td>\n",
              "      <td>-0.124899</td>\n",
              "      <td>-0.876288</td>\n",
              "      <td>a</td>\n",
              "      <td>0.0</td>\n",
              "      <td>1.0</td>\n",
              "      <td>0.0</td>\n",
              "      <td>-1.402295</td>\n",
              "      <td>996.800294</td>\n",
              "      <td>1562112000000000000</td>\n",
              "      <td>qq</td>\n",
              "      <td>q</td>\n",
              "      <td>0</td>\n",
              "      <td>4</td>\n",
              "      <td>4</td>\n",
              "    </tr>\n",
              "    <tr>\n",
              "      <th>3</th>\n",
              "      <td>0.0</td>\n",
              "      <td>0.3</td>\n",
              "      <td>2.136857</td>\n",
              "      <td>1.843655</td>\n",
              "      <td>-2.593336</td>\n",
              "      <td>w</td>\n",
              "      <td>0.0</td>\n",
              "      <td>1.0</td>\n",
              "      <td>0.0</td>\n",
              "      <td>-0.852157</td>\n",
              "      <td>998.064733</td>\n",
              "      <td>1560211200000000000</td>\n",
              "      <td>dd</td>\n",
              "      <td>u</td>\n",
              "      <td>7</td>\n",
              "      <td>2</td>\n",
              "      <td>7</td>\n",
              "    </tr>\n",
              "    <tr>\n",
              "      <th>5</th>\n",
              "      <td>0.0</td>\n",
              "      <td>0.9</td>\n",
              "      <td>3.336909</td>\n",
              "      <td>3.651770</td>\n",
              "      <td>-4.933117</td>\n",
              "      <td>a</td>\n",
              "      <td>0.0</td>\n",
              "      <td>1.0</td>\n",
              "      <td>0.0</td>\n",
              "      <td>-2.057244</td>\n",
              "      <td>996.607751</td>\n",
              "      <td>1573344000000000000</td>\n",
              "      <td>ww</td>\n",
              "      <td>t</td>\n",
              "      <td>0</td>\n",
              "      <td>7</td>\n",
              "      <td>6</td>\n",
              "    </tr>\n",
              "    <tr>\n",
              "      <th>14</th>\n",
              "      <td>0.0</td>\n",
              "      <td>0.5</td>\n",
              "      <td>2.460560</td>\n",
              "      <td>-1.086026</td>\n",
              "      <td>0.377075</td>\n",
              "      <td>ew</td>\n",
              "      <td>0.0</td>\n",
              "      <td>1.0</td>\n",
              "      <td>0.0</td>\n",
              "      <td>-0.428685</td>\n",
              "      <td>998.473146</td>\n",
              "      <td>1566777600000000000</td>\n",
              "      <td>aa</td>\n",
              "      <td>i</td>\n",
              "      <td>2</td>\n",
              "      <td>0</td>\n",
              "      <td>1</td>\n",
              "    </tr>\n",
              "    <tr>\n",
              "      <th>15</th>\n",
              "      <td>1.0</td>\n",
              "      <td>0.5</td>\n",
              "      <td>2.343555</td>\n",
              "      <td>3.219759</td>\n",
              "      <td>-0.956726</td>\n",
              "      <td>w</td>\n",
              "      <td>1.0</td>\n",
              "      <td>1.0</td>\n",
              "      <td>0.0</td>\n",
              "      <td>-0.633997</td>\n",
              "      <td>996.621927</td>\n",
              "      <td>1546646400000000000</td>\n",
              "      <td>dd</td>\n",
              "      <td>r</td>\n",
              "      <td>7</td>\n",
              "      <td>2</td>\n",
              "      <td>5</td>\n",
              "    </tr>\n",
              "  </tbody>\n",
              "</table>\n",
              "</div>"
            ],
            "text/plain": [
              "   target   c1        c2        c3        c4  ... c12 c13 c5_cat c12_cat  c13_cat\n",
              "0     0.0  0.6  3.848024 -0.124899 -0.876288  ...  qq   q      0       4        4\n",
              "3     0.0  0.3  2.136857  1.843655 -2.593336  ...  dd   u      7       2        7\n",
              "5     0.0  0.9  3.336909  3.651770 -4.933117  ...  ww   t      0       7        6\n",
              "14    0.0  0.5  2.460560 -1.086026  0.377075  ...  aa   i      2       0        1\n",
              "15    1.0  0.5  2.343555  3.219759 -0.956726  ...  dd   r      7       2        5\n",
              "\n",
              "[5 rows x 17 columns]"
            ]
          },
          "metadata": {},
          "execution_count": 18
        }
      ]
    },
    {
      "cell_type": "code",
      "metadata": {
        "colab": {
          "base_uri": "https://localhost:8080/",
          "height": 741
        },
        "id": "SGvtRAvDbdJ4",
        "outputId": "47b1dbd3-01dd-47dc-91a7-83345d96e1e0"
      },
      "source": [
        "colormap = plt.cm.RdBu\n",
        "plt.figure(figsize=(14,12))\n",
        "plt.title('Pearson Correlation of Features', y=1.05, size=15)\n",
        "sns.heatmap(df_clr.drop(columns=['c5','c12','c13']).astype(float).corr(),linewidths=0.1,vmax=1.0, \n",
        "            square=True, cmap=colormap, linecolor='white', annot=True)"
      ],
      "execution_count": null,
      "outputs": [
        {
          "output_type": "execute_result",
          "data": {
            "text/plain": [
              "<matplotlib.axes._subplots.AxesSubplot at 0x7fa4c1c27a10>"
            ]
          },
          "metadata": {},
          "execution_count": 20
        },
        {
          "output_type": "display_data",
          "data": {
            "image/png": "[encoded data removed]",
            "text/plain": [
              "<Figure size 1008x864 with 2 Axes>"
            ]
          },
          "metadata": {
            "needs_background": "light"
          }
        }
      ]
    },
    {
      "cell_type": "markdown",
      "metadata": {
        "id": "f7G6Q_m3bzIt"
      },
      "source": [
        "Як бачимо позбавлення outliers та перевірка дати свідчать про те, що с1,c4,c11 все ще неважливі фічі."
      ]
    },
    {
      "cell_type": "code",
      "metadata": {
        "colab": {
          "base_uri": "https://localhost:8080/"
        },
        "id": "CyUl9_QhbsQV",
        "outputId": "b55bee35-a6d8-467d-b0d6-3b3d3ff7d9c0"
      },
      "source": [
        "df_clr.target.describe()"
      ],
      "execution_count": null,
      "outputs": [
        {
          "output_type": "execute_result",
          "data": {
            "text/plain": [
              "count     363287\n",
              "unique         2\n",
              "top          0.0\n",
              "freq      285321\n",
              "Name: target, dtype: object"
            ]
          },
          "metadata": {},
          "execution_count": 26
        }
      ]
    },
    {
      "cell_type": "code",
      "metadata": {
        "id": "t5gK17o1dyF8"
      },
      "source": [
        "df_clr['target'] = pd.to_numeric(df_clr['target'])"
      ],
      "execution_count": null,
      "outputs": []
    },
    {
      "cell_type": "code",
      "metadata": {
        "colab": {
          "base_uri": "https://localhost:8080/",
          "height": 300
        },
        "id": "BmYauMX5fiYL",
        "outputId": "3e404adc-b1b5-41eb-a7ac-ce8037427ee9"
      },
      "source": [
        "df_clr[[\"c5_cat\", \"target\"]].groupby(['c5_cat'], as_index=False).mean().sort_values(by='target', ascending=False)"
      ],
      "execution_count": null,
      "outputs": [
        {
          "output_type": "execute_result",
          "data": {
            "text/html": [
              "<div>\n",
              "<style scoped>\n",
              "    .dataframe tbody tr th:only-of-type {\n",
              "        vertical-align: middle;\n",
              "    }\n",
              "\n",
              "    .dataframe tbody tr th {\n",
              "        vertical-align: top;\n",
              "    }\n",
              "\n",
              "    .dataframe thead th {\n",
              "        text-align: right;\n",
              "    }\n",
              "</style>\n",
              "<table border=\"1\" class=\"dataframe\">\n",
              "  <thead>\n",
              "    <tr style=\"text-align: right;\">\n",
              "      <th></th>\n",
              "      <th>c5_cat</th>\n",
              "      <th>target</th>\n",
              "    </tr>\n",
              "  </thead>\n",
              "  <tbody>\n",
              "    <tr>\n",
              "      <th>7</th>\n",
              "      <td>7</td>\n",
              "      <td>0.216037</td>\n",
              "    </tr>\n",
              "    <tr>\n",
              "      <th>6</th>\n",
              "      <td>6</td>\n",
              "      <td>0.215691</td>\n",
              "    </tr>\n",
              "    <tr>\n",
              "      <th>5</th>\n",
              "      <td>5</td>\n",
              "      <td>0.215055</td>\n",
              "    </tr>\n",
              "    <tr>\n",
              "      <th>1</th>\n",
              "      <td>1</td>\n",
              "      <td>0.214666</td>\n",
              "    </tr>\n",
              "    <tr>\n",
              "      <th>3</th>\n",
              "      <td>3</td>\n",
              "      <td>0.214416</td>\n",
              "    </tr>\n",
              "    <tr>\n",
              "      <th>0</th>\n",
              "      <td>0</td>\n",
              "      <td>0.214344</td>\n",
              "    </tr>\n",
              "    <tr>\n",
              "      <th>4</th>\n",
              "      <td>4</td>\n",
              "      <td>0.214051</td>\n",
              "    </tr>\n",
              "    <tr>\n",
              "      <th>2</th>\n",
              "      <td>2</td>\n",
              "      <td>0.212638</td>\n",
              "    </tr>\n",
              "  </tbody>\n",
              "</table>\n",
              "</div>"
            ],
            "text/plain": [
              "   c5_cat    target\n",
              "7       7  0.216037\n",
              "6       6  0.215691\n",
              "5       5  0.215055\n",
              "1       1  0.214666\n",
              "3       3  0.214416\n",
              "0       0  0.214344\n",
              "4       4  0.214051\n",
              "2       2  0.212638"
            ]
          },
          "metadata": {},
          "execution_count": 31
        }
      ]
    },
    {
      "cell_type": "code",
      "metadata": {
        "colab": {
          "base_uri": "https://localhost:8080/",
          "height": 331
        },
        "id": "20oTlNZif2Yn",
        "outputId": "4f2426a8-c191-4a3f-92ba-1f548644f0b6"
      },
      "source": [
        "df_clr[[\"c12_cat\", \"target\"]].groupby(['c12_cat'], as_index=False).mean().sort_values(by='target', ascending=False)"
      ],
      "execution_count": null,
      "outputs": [
        {
          "output_type": "execute_result",
          "data": {
            "text/html": [
              "<div>\n",
              "<style scoped>\n",
              "    .dataframe tbody tr th:only-of-type {\n",
              "        vertical-align: middle;\n",
              "    }\n",
              "\n",
              "    .dataframe tbody tr th {\n",
              "        vertical-align: top;\n",
              "    }\n",
              "\n",
              "    .dataframe thead th {\n",
              "        text-align: right;\n",
              "    }\n",
              "</style>\n",
              "<table border=\"1\" class=\"dataframe\">\n",
              "  <thead>\n",
              "    <tr style=\"text-align: right;\">\n",
              "      <th></th>\n",
              "      <th>c12_cat</th>\n",
              "      <th>target</th>\n",
              "    </tr>\n",
              "  </thead>\n",
              "  <tbody>\n",
              "    <tr>\n",
              "      <th>5</th>\n",
              "      <td>5</td>\n",
              "      <td>1.000000</td>\n",
              "    </tr>\n",
              "    <tr>\n",
              "      <th>6</th>\n",
              "      <td>6</td>\n",
              "      <td>1.000000</td>\n",
              "    </tr>\n",
              "    <tr>\n",
              "      <th>2</th>\n",
              "      <td>2</td>\n",
              "      <td>0.274646</td>\n",
              "    </tr>\n",
              "    <tr>\n",
              "      <th>8</th>\n",
              "      <td>8</td>\n",
              "      <td>0.163536</td>\n",
              "    </tr>\n",
              "    <tr>\n",
              "      <th>3</th>\n",
              "      <td>3</td>\n",
              "      <td>0.162769</td>\n",
              "    </tr>\n",
              "    <tr>\n",
              "      <th>1</th>\n",
              "      <td>1</td>\n",
              "      <td>0.161593</td>\n",
              "    </tr>\n",
              "    <tr>\n",
              "      <th>4</th>\n",
              "      <td>4</td>\n",
              "      <td>0.159368</td>\n",
              "    </tr>\n",
              "    <tr>\n",
              "      <th>0</th>\n",
              "      <td>0</td>\n",
              "      <td>0.159329</td>\n",
              "    </tr>\n",
              "    <tr>\n",
              "      <th>7</th>\n",
              "      <td>7</td>\n",
              "      <td>0.158258</td>\n",
              "    </tr>\n",
              "  </tbody>\n",
              "</table>\n",
              "</div>"
            ],
            "text/plain": [
              "   c12_cat    target\n",
              "5        5  1.000000\n",
              "6        6  1.000000\n",
              "2        2  0.274646\n",
              "8        8  0.163536\n",
              "3        3  0.162769\n",
              "1        1  0.161593\n",
              "4        4  0.159368\n",
              "0        0  0.159329\n",
              "7        7  0.158258"
            ]
          },
          "metadata": {},
          "execution_count": 33
        }
      ]
    },
    {
      "cell_type": "markdown",
      "metadata": {
        "id": "Bb6iiAlhgBiD"
      },
      "source": [
        "c12 впливає на target."
      ]
    },
    {
      "cell_type": "code",
      "metadata": {
        "colab": {
          "base_uri": "https://localhost:8080/",
          "height": 363
        },
        "id": "GlbKrYUOf9-V",
        "outputId": "9f62245a-f0bd-43c8-de3d-0cc32fc11855"
      },
      "source": [
        "df_clr[[\"c13_cat\", \"target\"]].groupby(['c13_cat'], as_index=False).mean().sort_values(by='target', ascending=False)"
      ],
      "execution_count": null,
      "outputs": [
        {
          "output_type": "execute_result",
          "data": {
            "text/html": [
              "<div>\n",
              "<style scoped>\n",
              "    .dataframe tbody tr th:only-of-type {\n",
              "        vertical-align: middle;\n",
              "    }\n",
              "\n",
              "    .dataframe tbody tr th {\n",
              "        vertical-align: top;\n",
              "    }\n",
              "\n",
              "    .dataframe thead th {\n",
              "        text-align: right;\n",
              "    }\n",
              "</style>\n",
              "<table border=\"1\" class=\"dataframe\">\n",
              "  <thead>\n",
              "    <tr style=\"text-align: right;\">\n",
              "      <th></th>\n",
              "      <th>c13_cat</th>\n",
              "      <th>target</th>\n",
              "    </tr>\n",
              "  </thead>\n",
              "  <tbody>\n",
              "    <tr>\n",
              "      <th>4</th>\n",
              "      <td>4</td>\n",
              "      <td>0.216718</td>\n",
              "    </tr>\n",
              "    <tr>\n",
              "      <th>0</th>\n",
              "      <td>0</td>\n",
              "      <td>0.216464</td>\n",
              "    </tr>\n",
              "    <tr>\n",
              "      <th>7</th>\n",
              "      <td>7</td>\n",
              "      <td>0.215986</td>\n",
              "    </tr>\n",
              "    <tr>\n",
              "      <th>9</th>\n",
              "      <td>9</td>\n",
              "      <td>0.215841</td>\n",
              "    </tr>\n",
              "    <tr>\n",
              "      <th>8</th>\n",
              "      <td>8</td>\n",
              "      <td>0.215822</td>\n",
              "    </tr>\n",
              "    <tr>\n",
              "      <th>1</th>\n",
              "      <td>1</td>\n",
              "      <td>0.214984</td>\n",
              "    </tr>\n",
              "    <tr>\n",
              "      <th>6</th>\n",
              "      <td>6</td>\n",
              "      <td>0.214568</td>\n",
              "    </tr>\n",
              "    <tr>\n",
              "      <th>2</th>\n",
              "      <td>2</td>\n",
              "      <td>0.214209</td>\n",
              "    </tr>\n",
              "    <tr>\n",
              "      <th>5</th>\n",
              "      <td>5</td>\n",
              "      <td>0.213597</td>\n",
              "    </tr>\n",
              "    <tr>\n",
              "      <th>3</th>\n",
              "      <td>3</td>\n",
              "      <td>0.207903</td>\n",
              "    </tr>\n",
              "  </tbody>\n",
              "</table>\n",
              "</div>"
            ],
            "text/plain": [
              "   c13_cat    target\n",
              "4        4  0.216718\n",
              "0        0  0.216464\n",
              "7        7  0.215986\n",
              "9        9  0.215841\n",
              "8        8  0.215822\n",
              "1        1  0.214984\n",
              "6        6  0.214568\n",
              "2        2  0.214209\n",
              "5        5  0.213597\n",
              "3        3  0.207903"
            ]
          },
          "metadata": {},
          "execution_count": 34
        }
      ]
    },
    {
      "cell_type": "markdown",
      "metadata": {
        "id": "hVoypshogPxm"
      },
      "source": [
        "Кореляція майже нульова."
      ]
    },
    {
      "cell_type": "markdown",
      "metadata": {
        "id": "pS_dDGMZgTaO"
      },
      "source": [
        "Таким чином видялаємо усі фічі окрім с12,c6,c8,c9,c10.\n"
      ]
    },
    {
      "cell_type": "code",
      "metadata": {
        "colab": {
          "base_uri": "https://localhost:8080/",
          "height": 206
        },
        "id": "wrw5Wb1ngOVr",
        "outputId": "2001a469-608d-4439-f456-c865bb9a84a8"
      },
      "source": [
        "df_clr.head()"
      ],
      "execution_count": null,
      "outputs": [
        {
          "output_type": "execute_result",
          "data": {
            "text/html": [
              "<div>\n",
              "<style scoped>\n",
              "    .dataframe tbody tr th:only-of-type {\n",
              "        vertical-align: middle;\n",
              "    }\n",
              "\n",
              "    .dataframe tbody tr th {\n",
              "        vertical-align: top;\n",
              "    }\n",
              "\n",
              "    .dataframe thead th {\n",
              "        text-align: right;\n",
              "    }\n",
              "</style>\n",
              "<table border=\"1\" class=\"dataframe\">\n",
              "  <thead>\n",
              "    <tr style=\"text-align: right;\">\n",
              "      <th></th>\n",
              "      <th>target</th>\n",
              "      <th>c1</th>\n",
              "      <th>c2</th>\n",
              "      <th>c3</th>\n",
              "      <th>c4</th>\n",
              "      <th>c5</th>\n",
              "      <th>c6</th>\n",
              "      <th>c7</th>\n",
              "      <th>c8</th>\n",
              "      <th>c9</th>\n",
              "      <th>c10</th>\n",
              "      <th>c11</th>\n",
              "      <th>c12</th>\n",
              "      <th>c13</th>\n",
              "      <th>c5_cat</th>\n",
              "      <th>c12_cat</th>\n",
              "      <th>c13_cat</th>\n",
              "    </tr>\n",
              "  </thead>\n",
              "  <tbody>\n",
              "    <tr>\n",
              "      <th>0</th>\n",
              "      <td>0.0</td>\n",
              "      <td>0.6</td>\n",
              "      <td>3.848024</td>\n",
              "      <td>-0.124899</td>\n",
              "      <td>-0.876288</td>\n",
              "      <td>a</td>\n",
              "      <td>0.0</td>\n",
              "      <td>1.0</td>\n",
              "      <td>0.0</td>\n",
              "      <td>-1.402295</td>\n",
              "      <td>996.800294</td>\n",
              "      <td>1562112000000000000</td>\n",
              "      <td>qq</td>\n",
              "      <td>q</td>\n",
              "      <td>0</td>\n",
              "      <td>4</td>\n",
              "      <td>4</td>\n",
              "    </tr>\n",
              "    <tr>\n",
              "      <th>3</th>\n",
              "      <td>0.0</td>\n",
              "      <td>0.3</td>\n",
              "      <td>2.136857</td>\n",
              "      <td>1.843655</td>\n",
              "      <td>-2.593336</td>\n",
              "      <td>w</td>\n",
              "      <td>0.0</td>\n",
              "      <td>1.0</td>\n",
              "      <td>0.0</td>\n",
              "      <td>-0.852157</td>\n",
              "      <td>998.064733</td>\n",
              "      <td>1560211200000000000</td>\n",
              "      <td>dd</td>\n",
              "      <td>u</td>\n",
              "      <td>7</td>\n",
              "      <td>2</td>\n",
              "      <td>7</td>\n",
              "    </tr>\n",
              "    <tr>\n",
              "      <th>5</th>\n",
              "      <td>0.0</td>\n",
              "      <td>0.9</td>\n",
              "      <td>3.336909</td>\n",
              "      <td>3.651770</td>\n",
              "      <td>-4.933117</td>\n",
              "      <td>a</td>\n",
              "      <td>0.0</td>\n",
              "      <td>1.0</td>\n",
              "      <td>0.0</td>\n",
              "      <td>-2.057244</td>\n",
              "      <td>996.607751</td>\n",
              "      <td>1573344000000000000</td>\n",
              "      <td>ww</td>\n",
              "      <td>t</td>\n",
              "      <td>0</td>\n",
              "      <td>7</td>\n",
              "      <td>6</td>\n",
              "    </tr>\n",
              "    <tr>\n",
              "      <th>14</th>\n",
              "      <td>0.0</td>\n",
              "      <td>0.5</td>\n",
              "      <td>2.460560</td>\n",
              "      <td>-1.086026</td>\n",
              "      <td>0.377075</td>\n",
              "      <td>ew</td>\n",
              "      <td>0.0</td>\n",
              "      <td>1.0</td>\n",
              "      <td>0.0</td>\n",
              "      <td>-0.428685</td>\n",
              "      <td>998.473146</td>\n",
              "      <td>1566777600000000000</td>\n",
              "      <td>aa</td>\n",
              "      <td>i</td>\n",
              "      <td>2</td>\n",
              "      <td>0</td>\n",
              "      <td>1</td>\n",
              "    </tr>\n",
              "    <tr>\n",
              "      <th>15</th>\n",
              "      <td>1.0</td>\n",
              "      <td>0.5</td>\n",
              "      <td>2.343555</td>\n",
              "      <td>3.219759</td>\n",
              "      <td>-0.956726</td>\n",
              "      <td>w</td>\n",
              "      <td>1.0</td>\n",
              "      <td>1.0</td>\n",
              "      <td>0.0</td>\n",
              "      <td>-0.633997</td>\n",
              "      <td>996.621927</td>\n",
              "      <td>1546646400000000000</td>\n",
              "      <td>dd</td>\n",
              "      <td>r</td>\n",
              "      <td>7</td>\n",
              "      <td>2</td>\n",
              "      <td>5</td>\n",
              "    </tr>\n",
              "  </tbody>\n",
              "</table>\n",
              "</div>"
            ],
            "text/plain": [
              "    target   c1        c2        c3        c4  ... c12 c13 c5_cat c12_cat  c13_cat\n",
              "0      0.0  0.6  3.848024 -0.124899 -0.876288  ...  qq   q      0       4        4\n",
              "3      0.0  0.3  2.136857  1.843655 -2.593336  ...  dd   u      7       2        7\n",
              "5      0.0  0.9  3.336909  3.651770 -4.933117  ...  ww   t      0       7        6\n",
              "14     0.0  0.5  2.460560 -1.086026  0.377075  ...  aa   i      2       0        1\n",
              "15     1.0  0.5  2.343555  3.219759 -0.956726  ...  dd   r      7       2        5\n",
              "\n",
              "[5 rows x 17 columns]"
            ]
          },
          "metadata": {},
          "execution_count": 35
        }
      ]
    },
    {
      "cell_type": "code",
      "metadata": {
        "id": "h4XqTaQLgizE"
      },
      "source": [
        "df_complete = df_clr.drop(columns = ['c1','c2','c3','c4','c5','c7','c11','c13','c5_cat','c13_cat'])"
      ],
      "execution_count": null,
      "outputs": []
    },
    {
      "cell_type": "code",
      "metadata": {
        "colab": {
          "base_uri": "https://localhost:8080/",
          "height": 206
        },
        "id": "yB8k7b3VhHBx",
        "outputId": "d06cd85a-a462-4224-a44b-b8a6b3ff3ed1"
      },
      "source": [
        "df_complete.head()"
      ],
      "execution_count": null,
      "outputs": [
        {
          "output_type": "execute_result",
          "data": {
            "text/html": [
              "<div>\n",
              "<style scoped>\n",
              "    .dataframe tbody tr th:only-of-type {\n",
              "        vertical-align: middle;\n",
              "    }\n",
              "\n",
              "    .dataframe tbody tr th {\n",
              "        vertical-align: top;\n",
              "    }\n",
              "\n",
              "    .dataframe thead th {\n",
              "        text-align: right;\n",
              "    }\n",
              "</style>\n",
              "<table border=\"1\" class=\"dataframe\">\n",
              "  <thead>\n",
              "    <tr style=\"text-align: right;\">\n",
              "      <th></th>\n",
              "      <th>target</th>\n",
              "      <th>c6</th>\n",
              "      <th>c8</th>\n",
              "      <th>c9</th>\n",
              "      <th>c10</th>\n",
              "      <th>c12</th>\n",
              "      <th>c12_cat</th>\n",
              "    </tr>\n",
              "  </thead>\n",
              "  <tbody>\n",
              "    <tr>\n",
              "      <th>0</th>\n",
              "      <td>0.0</td>\n",
              "      <td>0.0</td>\n",
              "      <td>0.0</td>\n",
              "      <td>-1.402295</td>\n",
              "      <td>996.800294</td>\n",
              "      <td>qq</td>\n",
              "      <td>4</td>\n",
              "    </tr>\n",
              "    <tr>\n",
              "      <th>3</th>\n",
              "      <td>0.0</td>\n",
              "      <td>0.0</td>\n",
              "      <td>0.0</td>\n",
              "      <td>-0.852157</td>\n",
              "      <td>998.064733</td>\n",
              "      <td>dd</td>\n",
              "      <td>2</td>\n",
              "    </tr>\n",
              "    <tr>\n",
              "      <th>5</th>\n",
              "      <td>0.0</td>\n",
              "      <td>0.0</td>\n",
              "      <td>0.0</td>\n",
              "      <td>-2.057244</td>\n",
              "      <td>996.607751</td>\n",
              "      <td>ww</td>\n",
              "      <td>7</td>\n",
              "    </tr>\n",
              "    <tr>\n",
              "      <th>14</th>\n",
              "      <td>0.0</td>\n",
              "      <td>0.0</td>\n",
              "      <td>0.0</td>\n",
              "      <td>-0.428685</td>\n",
              "      <td>998.473146</td>\n",
              "      <td>aa</td>\n",
              "      <td>0</td>\n",
              "    </tr>\n",
              "    <tr>\n",
              "      <th>15</th>\n",
              "      <td>1.0</td>\n",
              "      <td>1.0</td>\n",
              "      <td>0.0</td>\n",
              "      <td>-0.633997</td>\n",
              "      <td>996.621927</td>\n",
              "      <td>dd</td>\n",
              "      <td>2</td>\n",
              "    </tr>\n",
              "  </tbody>\n",
              "</table>\n",
              "</div>"
            ],
            "text/plain": [
              "    target   c6   c8        c9         c10 c12  c12_cat\n",
              "0      0.0  0.0  0.0 -1.402295  996.800294  qq        4\n",
              "3      0.0  0.0  0.0 -0.852157  998.064733  dd        2\n",
              "5      0.0  0.0  0.0 -2.057244  996.607751  ww        7\n",
              "14     0.0  0.0  0.0 -0.428685  998.473146  aa        0\n",
              "15     1.0  1.0  0.0 -0.633997  996.621927  dd        2"
            ]
          },
          "metadata": {},
          "execution_count": 38
        }
      ]
    },
    {
      "cell_type": "code",
      "metadata": {
        "id": "z-nOjAgjhLIP"
      },
      "source": [
        "df_complete[\"c6\"] = df_complete['c6'].astype('category')\n",
        "df_complete[\"c6\"] = df_complete[\"c6\"].cat.codes\n",
        "df_complete[\"target\"] = df_complete['target'].astype('category')\n",
        "df_complete[\"target\"] = df_complete[\"target\"].cat.codes\n",
        "df_complete[\"c8\"] = df_complete['c8'].astype('category')\n",
        "df_complete[\"c8\"] = df_complete[\"c8\"].cat.codes\n",
        "df_complete= df_complete.drop(columns=['c12'])"
      ],
      "execution_count": null,
      "outputs": []
    },
    {
      "cell_type": "code",
      "metadata": {
        "colab": {
          "base_uri": "https://localhost:8080/",
          "height": 206
        },
        "id": "oyHtAgb4huuh",
        "outputId": "c1541973-dcf8-45af-f1eb-c451b1009a63"
      },
      "source": [
        "df_complete.head()"
      ],
      "execution_count": null,
      "outputs": [
        {
          "output_type": "execute_result",
          "data": {
            "text/html": [
              "<div>\n",
              "<style scoped>\n",
              "    .dataframe tbody tr th:only-of-type {\n",
              "        vertical-align: middle;\n",
              "    }\n",
              "\n",
              "    .dataframe tbody tr th {\n",
              "        vertical-align: top;\n",
              "    }\n",
              "\n",
              "    .dataframe thead th {\n",
              "        text-align: right;\n",
              "    }\n",
              "</style>\n",
              "<table border=\"1\" class=\"dataframe\">\n",
              "  <thead>\n",
              "    <tr style=\"text-align: right;\">\n",
              "      <th></th>\n",
              "      <th>target</th>\n",
              "      <th>c6</th>\n",
              "      <th>c8</th>\n",
              "      <th>c9</th>\n",
              "      <th>c10</th>\n",
              "      <th>c12_cat</th>\n",
              "    </tr>\n",
              "  </thead>\n",
              "  <tbody>\n",
              "    <tr>\n",
              "      <th>0</th>\n",
              "      <td>0</td>\n",
              "      <td>0</td>\n",
              "      <td>1</td>\n",
              "      <td>-1.402295</td>\n",
              "      <td>996.800294</td>\n",
              "      <td>4</td>\n",
              "    </tr>\n",
              "    <tr>\n",
              "      <th>3</th>\n",
              "      <td>0</td>\n",
              "      <td>0</td>\n",
              "      <td>1</td>\n",
              "      <td>-0.852157</td>\n",
              "      <td>998.064733</td>\n",
              "      <td>2</td>\n",
              "    </tr>\n",
              "    <tr>\n",
              "      <th>5</th>\n",
              "      <td>0</td>\n",
              "      <td>0</td>\n",
              "      <td>1</td>\n",
              "      <td>-2.057244</td>\n",
              "      <td>996.607751</td>\n",
              "      <td>7</td>\n",
              "    </tr>\n",
              "    <tr>\n",
              "      <th>14</th>\n",
              "      <td>0</td>\n",
              "      <td>0</td>\n",
              "      <td>1</td>\n",
              "      <td>-0.428685</td>\n",
              "      <td>998.473146</td>\n",
              "      <td>0</td>\n",
              "    </tr>\n",
              "    <tr>\n",
              "      <th>15</th>\n",
              "      <td>1</td>\n",
              "      <td>1</td>\n",
              "      <td>1</td>\n",
              "      <td>-0.633997</td>\n",
              "      <td>996.621927</td>\n",
              "      <td>2</td>\n",
              "    </tr>\n",
              "  </tbody>\n",
              "</table>\n",
              "</div>"
            ],
            "text/plain": [
              "    target  c6  c8        c9         c10  c12_cat\n",
              "0        0   0   1 -1.402295  996.800294        4\n",
              "3        0   0   1 -0.852157  998.064733        2\n",
              "5        0   0   1 -2.057244  996.607751        7\n",
              "14       0   0   1 -0.428685  998.473146        0\n",
              "15       1   1   1 -0.633997  996.621927        2"
            ]
          },
          "metadata": {},
          "execution_count": 43
        }
      ]
    },
    {
      "cell_type": "markdown",
      "metadata": {
        "id": "1oI-mob3iHXX"
      },
      "source": [
        "Таким чином маємо готовий датасет для тренування классифікатора."
      ]
    },
    {
      "cell_type": "code",
      "metadata": {
        "id": "mfiG2TKBh8qR"
      },
      "source": [
        "from sklearn.neural_network import MLPClassifier"
      ],
      "execution_count": null,
      "outputs": []
    },
    {
      "cell_type": "code",
      "metadata": {
        "id": "eyH7qPY3icoo"
      },
      "source": [
        "model = MLPClassifier()\n",
        "Y = df_complete.target"
      ],
      "execution_count": null,
      "outputs": []
    },
    {
      "cell_type": "code",
      "metadata": {
        "id": "PKImr61qixDl"
      },
      "source": [
        "X = df_complete.drop(columns = ['target'])"
      ],
      "execution_count": null,
      "outputs": []
    },
    {
      "cell_type": "code",
      "metadata": {
        "id": "v4dKH78Nix9N"
      },
      "source": [
        "from sklearn.model_selection import train_test_split\n",
        "X_train, X_test, y_train, y_test = train_test_split(X, Y, test_size=0.33, random_state=42)"
      ],
      "execution_count": null,
      "outputs": []
    },
    {
      "cell_type": "code",
      "metadata": {
        "colab": {
          "base_uri": "https://localhost:8080/"
        },
        "id": "CfQU6QHBjARD",
        "outputId": "1479ffe9-f3ca-41d6-e08a-b0a674ca55c3"
      },
      "source": [
        "model.fit(X=X_train,y=y_train)"
      ],
      "execution_count": null,
      "outputs": [
        {
          "output_type": "execute_result",
          "data": {
            "text/plain": [
              "MLPClassifier(activation='relu', alpha=0.0001, batch_size='auto', beta_1=0.9,\n",
              "              beta_2=0.999, early_stopping=False, epsilon=1e-08,\n",
              "              hidden_layer_sizes=(100,), learning_rate='constant',\n",
              "              learning_rate_init=0.001, max_fun=15000, max_iter=200,\n",
              "              momentum=0.9, n_iter_no_change=10, nesterovs_momentum=True,\n",
              "              power_t=0.5, random_state=None, shuffle=True, solver='adam',\n",
              "              tol=0.0001, validation_fraction=0.1, verbose=False,\n",
              "              warm_start=False)"
            ]
          },
          "metadata": {},
          "execution_count": 52
        }
      ]
    },
    {
      "cell_type": "code",
      "metadata": {
        "colab": {
          "base_uri": "https://localhost:8080/"
        },
        "id": "oOal4N8ujOpA",
        "outputId": "0b03f734-8692-4153-ded8-f955c6cf8b70"
      },
      "source": [
        "y_pred = model.predict(X_test)\n",
        "from sklearn.metrics import accuracy_score\n",
        "accuracy_score(y_pred,y_test)"
      ],
      "execution_count": null,
      "outputs": [
        {
          "output_type": "execute_result",
          "data": {
            "text/plain": [
              "0.9184301622388122"
            ]
          },
          "metadata": {},
          "execution_count": 53
        }
      ]
    },
    {
      "cell_type": "markdown",
      "metadata": {
        "id": "Unuh2pfCkRgl"
      },
      "source": [
        "Маємо досить непогану точність моделі з автоматичними параметрами,хоча і невідомо, що саме ми обчислюємо)"
      ]
    },
    {
      "cell_type": "code",
      "metadata": {
        "id": "4UvFULyxkN_I"
      },
      "source": [
        "df_complete.to_csv('drive/MyDrive/data_cleared.csv',encoding='utf-8')"
      ],
      "execution_count": null,
      "outputs": []
    },
    {
      "cell_type": "code",
      "metadata": {
        "id": "N7RwKUE9paA6"
      },
      "source": [
        ""
      ],
      "execution_count": null,
      "outputs": []
    }
  ]
}