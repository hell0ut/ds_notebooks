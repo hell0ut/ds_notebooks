{
 "cells": [
  {
   "cell_type": "code",
   "execution_count": 2,
   "outputs": [],
   "source": [
    "import pandas as pd\n",
    "import numpy as np\n",
    "import re"
   ],
   "metadata": {
    "collapsed": false,
    "pycharm": {
     "name": "#%%\n"
    }
   }
  },
  {
   "cell_type": "code",
   "execution_count": 3,
   "outputs": [],
   "source": [
    "def load_data(train_size=0.8):\n",
    "    df = pd.read_csv('spam.csv', encoding='latin-1')\n",
    "\n",
    "    idx = np.arange(df.shape[0])\n",
    "    print(idx)\n",
    "    np.random.shuffle(idx)\n",
    "\n",
    "    train_set_size = int(df.shape[0] * train_size)\n",
    "\n",
    "    train_set = df.loc[idx[:train_set_size]]\n",
    "    test_set = df.loc[idx[train_set_size:]]\n",
    "\n",
    "    return train_set, test_set"
   ],
   "metadata": {
    "collapsed": false,
    "pycharm": {
     "name": "#%%\n"
    }
   }
  },
  {
   "cell_type": "code",
   "execution_count": 4,
   "outputs": [
    {
     "name": "stdout",
     "output_type": "stream",
     "text": [
      "[   0    1    2 ... 5569 5570 5571]\n"
     ]
    }
   ],
   "source": [
    "train_set, test_set = load_data()"
   ],
   "metadata": {
    "collapsed": false,
    "pycharm": {
     "name": "#%%\n"
    }
   }
  },
  {
   "cell_type": "code",
   "execution_count": 5,
   "outputs": [],
   "source": [
    "def clean_data(message):\n",
    "    return re.sub('[\\W_]+', ' ', message).lower()"
   ],
   "metadata": {
    "collapsed": false,
    "pycharm": {
     "name": "#%%\n"
    }
   }
  },
  {
   "cell_type": "code",
   "execution_count": 6,
   "outputs": [],
   "source": [
    "def prep_for_model(train_set, test_set):\n",
    "    regex = r'\\b\\w+\\b'\n",
    "\n",
    "    train_set_x = train_set['v2'].apply(lambda x : re.findall(regex,clean_data(x))).to_numpy()\n",
    "    train_set_y = train_set['v1'].to_numpy()\n",
    "    test_set_x = test_set['v2'].apply(lambda x : re.findall(regex,clean_data(x))).to_numpy()\n",
    "    test_set_y = test_set['v1'].to_numpy()\n",
    "\n",
    "    return train_set_x, train_set_y, test_set_x, test_set_y\n",
    "\n",
    "train_set_x, train_set_y, test_set_x, test_set_y = prep_for_model(train_set, test_set)"
   ],
   "metadata": {
    "collapsed": false,
    "pycharm": {
     "name": "#%%\n"
    }
   }
  },
  {
   "cell_type": "code",
   "execution_count": 8,
   "outputs": [],
   "source": [
    "def categories_words(x_train, y_train):\n",
    "\n",
    "    all_words_list = []\n",
    "    ham_words_list = []\n",
    "    spam_words_list = []\n",
    "\n",
    "    for i in range(len(x_train)):\n",
    "        for j in range(len(x_train[i])):\n",
    "            all_words_list.append(x_train[i][j])\n",
    "            if y_train[i]=='ham':\n",
    "                ham_words_list.append(x_train[i][j])\n",
    "            else:\n",
    "                spam_words_list.append(x_train[i][j])\n",
    "    all_words_list = np.array(all_words_list)\n",
    "    ham_words_list = np.array(ham_words_list)\n",
    "    spam_words_list = np.array(spam_words_list)\n",
    "\n",
    "\n",
    "    return all_words_list, ham_words_list, spam_words_list"
   ],
   "metadata": {
    "collapsed": false,
    "pycharm": {
     "name": "#%%\n"
    }
   }
  },
  {
   "cell_type": "code",
   "execution_count": 5,
   "outputs": [],
   "source": [
    "class NaiveBayes(object):\n",
    "    def __init__(self, alpha=1.0):\n",
    "        self.alpha = alpha\n",
    "        self.train_set_x = None\n",
    "        self.train_set_y = None\n",
    "        self.ham_words_dict = {}\n",
    "        self.spam_words_dict = {}\n",
    "        self.prior_ham_prob = None\n",
    "        self.prior_spam_prob = None\n",
    "\n",
    "\n",
    "    def fit(self, train_set_x, train_set_y):\n",
    "        all_words_list, ham_words_list, spam_words_list = categories_words(train_set_x, train_set_y)\n",
    "        ham_words_flat_len = ham_words_list.flatten().shape[0]\n",
    "        spam_words_flat_len = spam_words_list.flatten().shape[0]\n",
    "        un_words = np.unique(all_words_list.flatten())\n",
    "        for word in un_words:\n",
    "            k1=np.count_nonzero(ham_words_list==word)\n",
    "            k2=np.count_nonzero(spam_words_list==word)\n",
    "            self.ham_words_dict[word]= k1+self.alpha/(ham_words_flat_len+un_words.shape[0])\n",
    "            self.spam_words_dict[word]= k2+self.alpha/(spam_words_flat_len+un_words.shape[0])\n",
    "        self.prior_ham_prob = np.count_nonzero(train_set_y=='ham')/train_set_y.shape[0]\n",
    "        self.prior_spam_prob = np.count_nonzero(train_set_y=='spam')/train_set_y.shape[0]\n",
    "\n",
    "\n",
    "    def predict(self, test_set_x):\n",
    "        prediction = []\n",
    "        for message in test_set_x:\n",
    "            ham_scr = 1\n",
    "            spam_scr = 1\n",
    "            for word in message:\n",
    "                if word in self.ham_words_dict:\n",
    "                    ham_scr*=self.ham_words_dict[word]\n",
    "                    spam_scr*=self.spam_words_dict[word]\n",
    "            ham_scr*=self.prior_ham_prob\n",
    "            spam_scr*=self.prior_spam_prob\n",
    "            if ham_scr>spam_scr:\n",
    "                prediction.append('ham')\n",
    "            else:\n",
    "                prediction.append('spam')\n",
    "        return prediction"
   ],
   "metadata": {
    "collapsed": false,
    "pycharm": {
     "name": "#%%\n"
    }
   }
  },
  {
   "cell_type": "code",
   "execution_count": 19,
   "outputs": [],
   "source": [
    "train_sizes = []\n",
    "accuracies = []\n",
    "for train_size in np.arange(0.01,0.99,0.01):\n",
    "    train_sizes.append(train_size)\n",
    "    model = NaiveBayes()\n",
    "    train_set, test_set = load_data(train_size)\n",
    "    train_set_x, train_set_y, test_set_x, test_set_y = prep_for_model(train_set, test_set)\n",
    "    model.fit(train_set_x, train_set_y)\n",
    "    y_predictions = model.predict(test_set_x)\n",
    "    accuracy = (y_predictions == test_set_y).mean()\n",
    "    accuracies.append(accuracy)"
   ],
   "metadata": {
    "collapsed": false,
    "pycharm": {
     "name": "#%%\n"
    }
   }
  },
  {
   "cell_type": "code",
   "execution_count": 20,
   "outputs": [
    {
     "data": {
      "text/plain": "<Figure size 432x288 with 1 Axes>",
      "image/png": "[encoded data removed]"
     },
     "metadata": {
      "needs_background": "light"
     },
     "output_type": "display_data"
    }
   ],
   "source": [
    "import matplotlib.pyplot as plt\n",
    "\n",
    "plt.plot(train_sizes, accuracies)\n",
    "plt.xlabel(\"Train Size (part of all dataset)\")\n",
    "plt.ylabel(\"Accuracy\")\n",
    "plt.show()"
   ],
   "metadata": {
    "collapsed": false,
    "pycharm": {
     "name": "#%%\n"
    }
   }
  },
  {
   "cell_type": "code",
   "execution_count": 21,
   "outputs": [
    {
     "data": {
      "text/plain": "[0.9013956860612652,\n 0.9300494414942319,\n 0.9465309898242368,\n 0.9562616822429907,\n 0.9176426142803173,\n 0.9648720885834288,\n 0.9542647626399073,\n 0.9590403744880047,\n 0.93748767501479,\n 0.9505483549351944,\n 0.9631048387096774,\n 0.9500407830342578,\n 0.9674092409240924,\n 0.9695325542570952,\n 0.9681232847793962,\n 0.9609057893612476,\n 0.9617297297297297,\n 0.9684901531728666,\n 0.9705361098803722,\n 0.9645580978017048,\n 0.9695592912312585,\n 0.96733379342075,\n 0.9662083430435796,\n 0.9690672963400236,\n 0.9669777458722182,\n 0.9747817652764307,\n 0.9587020648967551,\n 0.9705882352941176,\n 0.9722011624968411,\n 0.9702640348628557,\n 0.9729518855656697,\n 0.9741356558458696,\n 0.968130690948045,\n 0.9684611201740077,\n 0.9657647708448371,\n 0.9722455845248108,\n 0.9718029051552264,\n 0.9727930535455861,\n 0.9735216240070609,\n 0.9688995215311005,\n 0.9741484184914841,\n 0.9730816831683168,\n 0.9675794774944917,\n 0.9714834988785646,\n 0.9706362153344209,\n 0.9767364572947823,\n 0.974272173324306,\n 0.9675638371290545,\n 0.9750175932441942,\n 0.9730796841349605,\n 0.9747345294763823,\n 0.9719626168224299,\n 0.9759450171821306,\n 0.9758190327613104,\n 0.9744816586921851,\n 0.968189233278956,\n 0.9749582637729549,\n 0.9743699273814609,\n 0.9719912472647703,\n 0.9730820995962315,\n 0.9806807727690893,\n 0.9759206798866855,\n 0.9728419010669254,\n 0.9770687936191426,\n 0.9759097898513582,\n 0.9720316622691293,\n 0.9782490483958673,\n 0.9719730941704036,\n 0.9728009259259259,\n 0.9748803827751196,\n 0.9771039603960396,\n 0.9762972453555413,\n 0.9747508305647841,\n 0.9758454106280193,\n 0.9748743718592965,\n 0.9753363228699552,\n 0.985179407176287,\n 0.9771615008156607,\n 0.9812126387702819,\n 0.9766816143497757,\n 0.9801699716713881,\n 0.9770687936191426,\n 0.9820675105485233,\n 0.9753363228699552,\n 0.9760765550239234,\n 0.971830985915493,\n 0.9710344827586207,\n 0.9775784753363229,\n 0.9738988580750407,\n 0.974910394265233,\n 0.9800796812749004,\n 0.9708520179372198,\n 0.9820971867007673,\n 0.9850746268656716,\n 0.978494623655914,\n 0.9775784753363229,\n 0.9821428571428571,\n 0.9732142857142857]"
     },
     "execution_count": 21,
     "metadata": {},
     "output_type": "execute_result"
    }
   ],
   "source": [
    "accuracies"
   ],
   "metadata": {
    "collapsed": false,
    "pycharm": {
     "name": "#%%\n"
    }
   }
  },
  {
   "cell_type": "code",
   "execution_count": null,
   "outputs": [],
   "source": [],
   "metadata": {
    "collapsed": false,
    "pycharm": {
     "name": "#%%\n"
    }
   }
  }
 ],
 "metadata": {
  "kernelspec": {
   "display_name": "Python 3",
   "language": "python",
   "name": "python3"
  },
  "language_info": {
   "codemirror_mode": {
    "name": "ipython",
    "version": 2
   },
   "file_extension": ".py",
   "mimetype": "text/x-python",
   "name": "python",
   "nbconvert_exporter": "python",
   "pygments_lexer": "ipython2",
   "version": "2.7.6"
  }
 },
 "nbformat": 4,
 "nbformat_minor": 0
}